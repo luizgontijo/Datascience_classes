{
  "nbformat": 4,
  "nbformat_minor": 0,
  "metadata": {
    "colab": {
      "name": "intro_recommendation_systems.ipynb",
      "provenance": [],
      "collapsed_sections": [
        "PhRcOvFoXlim",
        "queWkjF8Yq7d",
        "OrhRYnBJb6DM",
        "m0G1uAWRlbXy",
        "ZZLgLDY4d_fL",
        "9HM0zU5zjmUr"
      ],
      "mount_file_id": "1uiQR_Ul43ZtCkc8gx6p0708qNll_uLqm",
      "authorship_tag": "ABX9TyP0WMSNc/zpO0JOzAfPsfm1",
      "include_colab_link": true
    },
    "kernelspec": {
      "name": "python3",
      "display_name": "Python 3"
    },
    "language_info": {
      "name": "python"
    }
  },
  "cells": [
    {
      "cell_type": "markdown",
      "metadata": {
        "id": "view-in-github",
        "colab_type": "text"
      },
      "source": [
        "<a href=\"https://colab.research.google.com/github/luizgontijo/notebooks_classes/blob/master/intro_recommendation_systems.ipynb\" target=\"_parent\"><img src=\"https://colab.research.google.com/assets/colab-badge.svg\" alt=\"Open In Colab\"/></a>"
      ]
    },
    {
      "cell_type": "markdown",
      "metadata": {
        "id": "iQ1PK5P4UyYY"
      },
      "source": [
        "# Introduction to recommendation systems using python\n",
        "\n",
        "In this notebook we will understand the principles of recommendation systems. For this, we will use the Movie Lens movie [dataset](https://grouplens.org/datasets/movielens/latest/). We will start with the initial recommendation concepts and evolve to obtain an algorithm based on KNN (K-nearest neighbors).\n",
        "\n",
        "\n",
        "\n"
      ]
    },
    {
      "cell_type": "markdown",
      "metadata": {
        "id": "piaGGYvdXgKG"
      },
      "source": [
        "# Chapter 01 - Import data and make a baseline algorithm\n",
        "\n"
      ]
    },
    {
      "cell_type": "markdown",
      "metadata": {
        "id": "w0v6DzCzZSN3"
      },
      "source": [
        "Import some necessary libraries.\n"
      ]
    },
    {
      "cell_type": "code",
      "metadata": {
        "id": "yIptbvhWSm_i"
      },
      "source": [
        "import pandas as pd\n",
        "import numpy as np"
      ],
      "execution_count": 1,
      "outputs": []
    },
    {
      "cell_type": "markdown",
      "metadata": {
        "id": "2hM4h9mVZucH"
      },
      "source": [
        "Then import the data. For this I downloaded the dataset from this [site](https://grouplens.org/datasets/movielens/latest/) and uploaded on my google drive account."
      ]
    },
    {
      "cell_type": "markdown",
      "metadata": {
        "id": "UZEWsRhwagXy"
      },
      "source": [
        "First we need the dataset used to describe the title and the gender of the movie.\n"
      ]
    },
    {
      "cell_type": "code",
      "metadata": {
        "id": "DgHF5WedS9gT"
      },
      "source": [
        "movies = pd.read_csv('/content/drive/MyDrive/Alura/ml_sist_rec_python/ml-latest-small/movies.csv')"
      ],
      "execution_count": 2,
      "outputs": []
    },
    {
      "cell_type": "code",
      "metadata": {
        "colab": {
          "base_uri": "https://localhost:8080/",
          "height": 220
        },
        "id": "6CONHD68UA2q",
        "outputId": "676fa21a-fdfb-4798-cef1-107ce98b31e4"
      },
      "source": [
        "movies.columns = [\"movieId\", \"title\", \"gender\"]\n",
        "movies = movies.set_index(\"movieId\") # use the movieId as the index of the table\n",
        "movies.head()"
      ],
      "execution_count": 3,
      "outputs": [
        {
          "output_type": "execute_result",
          "data": {
            "text/html": [
              "<div>\n",
              "<style scoped>\n",
              "    .dataframe tbody tr th:only-of-type {\n",
              "        vertical-align: middle;\n",
              "    }\n",
              "\n",
              "    .dataframe tbody tr th {\n",
              "        vertical-align: top;\n",
              "    }\n",
              "\n",
              "    .dataframe thead th {\n",
              "        text-align: right;\n",
              "    }\n",
              "</style>\n",
              "<table border=\"1\" class=\"dataframe\">\n",
              "  <thead>\n",
              "    <tr style=\"text-align: right;\">\n",
              "      <th></th>\n",
              "      <th>title</th>\n",
              "      <th>gender</th>\n",
              "    </tr>\n",
              "    <tr>\n",
              "      <th>movieId</th>\n",
              "      <th></th>\n",
              "      <th></th>\n",
              "    </tr>\n",
              "  </thead>\n",
              "  <tbody>\n",
              "    <tr>\n",
              "      <th>1</th>\n",
              "      <td>Toy Story (1995)</td>\n",
              "      <td>Adventure|Animation|Children|Comedy|Fantasy</td>\n",
              "    </tr>\n",
              "    <tr>\n",
              "      <th>2</th>\n",
              "      <td>Jumanji (1995)</td>\n",
              "      <td>Adventure|Children|Fantasy</td>\n",
              "    </tr>\n",
              "    <tr>\n",
              "      <th>3</th>\n",
              "      <td>Grumpier Old Men (1995)</td>\n",
              "      <td>Comedy|Romance</td>\n",
              "    </tr>\n",
              "    <tr>\n",
              "      <th>4</th>\n",
              "      <td>Waiting to Exhale (1995)</td>\n",
              "      <td>Comedy|Drama|Romance</td>\n",
              "    </tr>\n",
              "    <tr>\n",
              "      <th>5</th>\n",
              "      <td>Father of the Bride Part II (1995)</td>\n",
              "      <td>Comedy</td>\n",
              "    </tr>\n",
              "  </tbody>\n",
              "</table>\n",
              "</div>"
            ],
            "text/plain": [
              "                                      title                                       gender\n",
              "movieId                                                                                 \n",
              "1                          Toy Story (1995)  Adventure|Animation|Children|Comedy|Fantasy\n",
              "2                            Jumanji (1995)                   Adventure|Children|Fantasy\n",
              "3                   Grumpier Old Men (1995)                               Comedy|Romance\n",
              "4                  Waiting to Exhale (1995)                         Comedy|Drama|Romance\n",
              "5        Father of the Bride Part II (1995)                                       Comedy"
            ]
          },
          "metadata": {
            "tags": []
          },
          "execution_count": 3
        }
      ]
    },
    {
      "cell_type": "markdown",
      "metadata": {
        "id": "IGqbaXZHajcN"
      },
      "source": [
        "Second we need the dataset to show the rate ogiven by user."
      ]
    },
    {
      "cell_type": "code",
      "metadata": {
        "colab": {
          "base_uri": "https://localhost:8080/",
          "height": 191
        },
        "id": "Zyg8S5xIUByS",
        "outputId": "7ad9ba97-a906-4ff1-986e-844a157e7c82"
      },
      "source": [
        "rate = pd.read_csv(\"/content/drive/MyDrive/Alura/ml_sist_rec_python/ml-latest-small/ratings.csv\")\n",
        "\n",
        "rate.columns = [\"userId\", \"movieId\", \"rate\", \"moment\"]\n",
        "\n",
        "rate.head()"
      ],
      "execution_count": 4,
      "outputs": [
        {
          "output_type": "execute_result",
          "data": {
            "text/html": [
              "<div>\n",
              "<style scoped>\n",
              "    .dataframe tbody tr th:only-of-type {\n",
              "        vertical-align: middle;\n",
              "    }\n",
              "\n",
              "    .dataframe tbody tr th {\n",
              "        vertical-align: top;\n",
              "    }\n",
              "\n",
              "    .dataframe thead th {\n",
              "        text-align: right;\n",
              "    }\n",
              "</style>\n",
              "<table border=\"1\" class=\"dataframe\">\n",
              "  <thead>\n",
              "    <tr style=\"text-align: right;\">\n",
              "      <th></th>\n",
              "      <th>userId</th>\n",
              "      <th>movieId</th>\n",
              "      <th>rate</th>\n",
              "      <th>moment</th>\n",
              "    </tr>\n",
              "  </thead>\n",
              "  <tbody>\n",
              "    <tr>\n",
              "      <th>0</th>\n",
              "      <td>1</td>\n",
              "      <td>1</td>\n",
              "      <td>4.0</td>\n",
              "      <td>964982703</td>\n",
              "    </tr>\n",
              "    <tr>\n",
              "      <th>1</th>\n",
              "      <td>1</td>\n",
              "      <td>3</td>\n",
              "      <td>4.0</td>\n",
              "      <td>964981247</td>\n",
              "    </tr>\n",
              "    <tr>\n",
              "      <th>2</th>\n",
              "      <td>1</td>\n",
              "      <td>6</td>\n",
              "      <td>4.0</td>\n",
              "      <td>964982224</td>\n",
              "    </tr>\n",
              "    <tr>\n",
              "      <th>3</th>\n",
              "      <td>1</td>\n",
              "      <td>47</td>\n",
              "      <td>5.0</td>\n",
              "      <td>964983815</td>\n",
              "    </tr>\n",
              "    <tr>\n",
              "      <th>4</th>\n",
              "      <td>1</td>\n",
              "      <td>50</td>\n",
              "      <td>5.0</td>\n",
              "      <td>964982931</td>\n",
              "    </tr>\n",
              "  </tbody>\n",
              "</table>\n",
              "</div>"
            ],
            "text/plain": [
              "   userId  movieId  rate     moment\n",
              "0       1        1   4.0  964982703\n",
              "1       1        3   4.0  964981247\n",
              "2       1        6   4.0  964982224\n",
              "3       1       47   5.0  964983815\n",
              "4       1       50   5.0  964982931"
            ]
          },
          "metadata": {
            "tags": []
          },
          "execution_count": 4
        }
      ]
    },
    {
      "cell_type": "markdown",
      "metadata": {
        "id": "E0E5YzzjawS1"
      },
      "source": [
        "We can see some statistics about this last dataset."
      ]
    },
    {
      "cell_type": "code",
      "metadata": {
        "colab": {
          "base_uri": "https://localhost:8080/",
          "height": 277
        },
        "id": "OejEi9TyUYAK",
        "outputId": "b30b500a-bd5a-470b-859e-14e9bc9b121d"
      },
      "source": [
        "rate.describe()"
      ],
      "execution_count": 5,
      "outputs": [
        {
          "output_type": "execute_result",
          "data": {
            "text/html": [
              "<div>\n",
              "<style scoped>\n",
              "    .dataframe tbody tr th:only-of-type {\n",
              "        vertical-align: middle;\n",
              "    }\n",
              "\n",
              "    .dataframe tbody tr th {\n",
              "        vertical-align: top;\n",
              "    }\n",
              "\n",
              "    .dataframe thead th {\n",
              "        text-align: right;\n",
              "    }\n",
              "</style>\n",
              "<table border=\"1\" class=\"dataframe\">\n",
              "  <thead>\n",
              "    <tr style=\"text-align: right;\">\n",
              "      <th></th>\n",
              "      <th>userId</th>\n",
              "      <th>movieId</th>\n",
              "      <th>rate</th>\n",
              "      <th>moment</th>\n",
              "    </tr>\n",
              "  </thead>\n",
              "  <tbody>\n",
              "    <tr>\n",
              "      <th>count</th>\n",
              "      <td>100836.000000</td>\n",
              "      <td>100836.000000</td>\n",
              "      <td>100836.000000</td>\n",
              "      <td>1.008360e+05</td>\n",
              "    </tr>\n",
              "    <tr>\n",
              "      <th>mean</th>\n",
              "      <td>326.127564</td>\n",
              "      <td>19435.295718</td>\n",
              "      <td>3.501557</td>\n",
              "      <td>1.205946e+09</td>\n",
              "    </tr>\n",
              "    <tr>\n",
              "      <th>std</th>\n",
              "      <td>182.618491</td>\n",
              "      <td>35530.987199</td>\n",
              "      <td>1.042529</td>\n",
              "      <td>2.162610e+08</td>\n",
              "    </tr>\n",
              "    <tr>\n",
              "      <th>min</th>\n",
              "      <td>1.000000</td>\n",
              "      <td>1.000000</td>\n",
              "      <td>0.500000</td>\n",
              "      <td>8.281246e+08</td>\n",
              "    </tr>\n",
              "    <tr>\n",
              "      <th>25%</th>\n",
              "      <td>177.000000</td>\n",
              "      <td>1199.000000</td>\n",
              "      <td>3.000000</td>\n",
              "      <td>1.019124e+09</td>\n",
              "    </tr>\n",
              "    <tr>\n",
              "      <th>50%</th>\n",
              "      <td>325.000000</td>\n",
              "      <td>2991.000000</td>\n",
              "      <td>3.500000</td>\n",
              "      <td>1.186087e+09</td>\n",
              "    </tr>\n",
              "    <tr>\n",
              "      <th>75%</th>\n",
              "      <td>477.000000</td>\n",
              "      <td>8122.000000</td>\n",
              "      <td>4.000000</td>\n",
              "      <td>1.435994e+09</td>\n",
              "    </tr>\n",
              "    <tr>\n",
              "      <th>max</th>\n",
              "      <td>610.000000</td>\n",
              "      <td>193609.000000</td>\n",
              "      <td>5.000000</td>\n",
              "      <td>1.537799e+09</td>\n",
              "    </tr>\n",
              "  </tbody>\n",
              "</table>\n",
              "</div>"
            ],
            "text/plain": [
              "              userId        movieId           rate        moment\n",
              "count  100836.000000  100836.000000  100836.000000  1.008360e+05\n",
              "mean      326.127564   19435.295718       3.501557  1.205946e+09\n",
              "std       182.618491   35530.987199       1.042529  2.162610e+08\n",
              "min         1.000000       1.000000       0.500000  8.281246e+08\n",
              "25%       177.000000    1199.000000       3.000000  1.019124e+09\n",
              "50%       325.000000    2991.000000       3.500000  1.186087e+09\n",
              "75%       477.000000    8122.000000       4.000000  1.435994e+09\n",
              "max       610.000000  193609.000000       5.000000  1.537799e+09"
            ]
          },
          "metadata": {
            "tags": []
          },
          "execution_count": 5
        }
      ]
    },
    {
      "cell_type": "markdown",
      "metadata": {
        "id": "5W6Qs8HdUnC4"
      },
      "source": [
        "## Create a baseline model to give some movies recommendations\n",
        "\n",
        "The recommendation I used here is the number of votes a film receives. If a movie has a lot of votes, it is possible that this movie is a good recommendation.\n"
      ]
    },
    {
      "cell_type": "markdown",
      "metadata": {
        "id": "Js5h5ofWWcme"
      },
      "source": [
        "Count the number of times a movie has been watched.\n"
      ]
    },
    {
      "cell_type": "code",
      "metadata": {
        "colab": {
          "base_uri": "https://localhost:8080/"
        },
        "id": "BNvNcU5yV_Py",
        "outputId": "cf40b15f-070c-428a-a62b-bd35810d7dc8"
      },
      "source": [
        "total_votes = rate[\"movieId\"].value_counts()\n",
        "total_votes.head()"
      ],
      "execution_count": 6,
      "outputs": [
        {
          "output_type": "execute_result",
          "data": {
            "text/plain": [
              "356     329\n",
              "318     317\n",
              "296     307\n",
              "593     279\n",
              "2571    278\n",
              "Name: movieId, dtype: int64"
            ]
          },
          "metadata": {
            "tags": []
          },
          "execution_count": 6
        }
      ]
    },
    {
      "cell_type": "code",
      "metadata": {
        "id": "TASbG0V2WqZE",
        "colab": {
          "base_uri": "https://localhost:8080/",
          "height": 220
        },
        "outputId": "f07303f3-83fb-4ed2-b93a-ae47dab6c365"
      },
      "source": [
        "# create a column to indicate the number of times a movie has been watched\n",
        "movies[\"total_votes\"] = total_votes\n",
        "movies.head()"
      ],
      "execution_count": 7,
      "outputs": [
        {
          "output_type": "execute_result",
          "data": {
            "text/html": [
              "<div>\n",
              "<style scoped>\n",
              "    .dataframe tbody tr th:only-of-type {\n",
              "        vertical-align: middle;\n",
              "    }\n",
              "\n",
              "    .dataframe tbody tr th {\n",
              "        vertical-align: top;\n",
              "    }\n",
              "\n",
              "    .dataframe thead th {\n",
              "        text-align: right;\n",
              "    }\n",
              "</style>\n",
              "<table border=\"1\" class=\"dataframe\">\n",
              "  <thead>\n",
              "    <tr style=\"text-align: right;\">\n",
              "      <th></th>\n",
              "      <th>title</th>\n",
              "      <th>gender</th>\n",
              "      <th>total_votes</th>\n",
              "    </tr>\n",
              "    <tr>\n",
              "      <th>movieId</th>\n",
              "      <th></th>\n",
              "      <th></th>\n",
              "      <th></th>\n",
              "    </tr>\n",
              "  </thead>\n",
              "  <tbody>\n",
              "    <tr>\n",
              "      <th>1</th>\n",
              "      <td>Toy Story (1995)</td>\n",
              "      <td>Adventure|Animation|Children|Comedy|Fantasy</td>\n",
              "      <td>215.0</td>\n",
              "    </tr>\n",
              "    <tr>\n",
              "      <th>2</th>\n",
              "      <td>Jumanji (1995)</td>\n",
              "      <td>Adventure|Children|Fantasy</td>\n",
              "      <td>110.0</td>\n",
              "    </tr>\n",
              "    <tr>\n",
              "      <th>3</th>\n",
              "      <td>Grumpier Old Men (1995)</td>\n",
              "      <td>Comedy|Romance</td>\n",
              "      <td>52.0</td>\n",
              "    </tr>\n",
              "    <tr>\n",
              "      <th>4</th>\n",
              "      <td>Waiting to Exhale (1995)</td>\n",
              "      <td>Comedy|Drama|Romance</td>\n",
              "      <td>7.0</td>\n",
              "    </tr>\n",
              "    <tr>\n",
              "      <th>5</th>\n",
              "      <td>Father of the Bride Part II (1995)</td>\n",
              "      <td>Comedy</td>\n",
              "      <td>49.0</td>\n",
              "    </tr>\n",
              "  </tbody>\n",
              "</table>\n",
              "</div>"
            ],
            "text/plain": [
              "                                      title  ... total_votes\n",
              "movieId                                      ...            \n",
              "1                          Toy Story (1995)  ...       215.0\n",
              "2                            Jumanji (1995)  ...       110.0\n",
              "3                   Grumpier Old Men (1995)  ...        52.0\n",
              "4                  Waiting to Exhale (1995)  ...         7.0\n",
              "5        Father of the Bride Part II (1995)  ...        49.0\n",
              "\n",
              "[5 rows x 3 columns]"
            ]
          },
          "metadata": {
            "tags": []
          },
          "execution_count": 7
        }
      ]
    },
    {
      "cell_type": "markdown",
      "metadata": {
        "id": "a6X1WSrTyuWK"
      },
      "source": [
        "Sort by the movie with more total_votes."
      ]
    },
    {
      "cell_type": "code",
      "metadata": {
        "colab": {
          "base_uri": "https://localhost:8080/",
          "height": 220
        },
        "id": "bdGbn4_XW_9O",
        "outputId": "7b30b3c1-77cb-471d-f3a3-ead19cc445b3"
      },
      "source": [
        "movies.sort_values(\"total_votes\", ascending=False).head()"
      ],
      "execution_count": 8,
      "outputs": [
        {
          "output_type": "execute_result",
          "data": {
            "text/html": [
              "<div>\n",
              "<style scoped>\n",
              "    .dataframe tbody tr th:only-of-type {\n",
              "        vertical-align: middle;\n",
              "    }\n",
              "\n",
              "    .dataframe tbody tr th {\n",
              "        vertical-align: top;\n",
              "    }\n",
              "\n",
              "    .dataframe thead th {\n",
              "        text-align: right;\n",
              "    }\n",
              "</style>\n",
              "<table border=\"1\" class=\"dataframe\">\n",
              "  <thead>\n",
              "    <tr style=\"text-align: right;\">\n",
              "      <th></th>\n",
              "      <th>title</th>\n",
              "      <th>gender</th>\n",
              "      <th>total_votes</th>\n",
              "    </tr>\n",
              "    <tr>\n",
              "      <th>movieId</th>\n",
              "      <th></th>\n",
              "      <th></th>\n",
              "      <th></th>\n",
              "    </tr>\n",
              "  </thead>\n",
              "  <tbody>\n",
              "    <tr>\n",
              "      <th>356</th>\n",
              "      <td>Forrest Gump (1994)</td>\n",
              "      <td>Comedy|Drama|Romance|War</td>\n",
              "      <td>329.0</td>\n",
              "    </tr>\n",
              "    <tr>\n",
              "      <th>318</th>\n",
              "      <td>Shawshank Redemption, The (1994)</td>\n",
              "      <td>Crime|Drama</td>\n",
              "      <td>317.0</td>\n",
              "    </tr>\n",
              "    <tr>\n",
              "      <th>296</th>\n",
              "      <td>Pulp Fiction (1994)</td>\n",
              "      <td>Comedy|Crime|Drama|Thriller</td>\n",
              "      <td>307.0</td>\n",
              "    </tr>\n",
              "    <tr>\n",
              "      <th>593</th>\n",
              "      <td>Silence of the Lambs, The (1991)</td>\n",
              "      <td>Crime|Horror|Thriller</td>\n",
              "      <td>279.0</td>\n",
              "    </tr>\n",
              "    <tr>\n",
              "      <th>2571</th>\n",
              "      <td>Matrix, The (1999)</td>\n",
              "      <td>Action|Sci-Fi|Thriller</td>\n",
              "      <td>278.0</td>\n",
              "    </tr>\n",
              "  </tbody>\n",
              "</table>\n",
              "</div>"
            ],
            "text/plain": [
              "                                    title  ... total_votes\n",
              "movieId                                    ...            \n",
              "356                   Forrest Gump (1994)  ...       329.0\n",
              "318      Shawshank Redemption, The (1994)  ...       317.0\n",
              "296                   Pulp Fiction (1994)  ...       307.0\n",
              "593      Silence of the Lambs, The (1991)  ...       279.0\n",
              "2571                   Matrix, The (1999)  ...       278.0\n",
              "\n",
              "[5 rows x 3 columns]"
            ]
          },
          "metadata": {
            "tags": []
          },
          "execution_count": 8
        }
      ]
    },
    {
      "cell_type": "markdown",
      "metadata": {
        "id": "1XXX4i-FXaJR"
      },
      "source": [
        "If we want to recommend a movie to one person that we don't know, or do not has any information, this is a good alternative."
      ]
    },
    {
      "cell_type": "markdown",
      "metadata": {
        "id": "PhRcOvFoXlim"
      },
      "source": [
        "# Chapter 02 - Improve the baseline method\n",
        "\n",
        "Here I just used the baseline method but with some alternative to create a better recommendation. Now instead of using the amount of votes, I start using the average rate of the movies. \n"
      ]
    },
    {
      "cell_type": "code",
      "metadata": {
        "id": "0pCmt2vpXviM"
      },
      "source": [
        "# calculate the average rate of the movies\n",
        "avg_rates = rate.groupby(\"movieId\").mean()[\"rate\"]"
      ],
      "execution_count": 9,
      "outputs": []
    },
    {
      "cell_type": "code",
      "metadata": {
        "id": "6L7PBj-nXzwZ"
      },
      "source": [
        "# create a column to indicate the avg rates\n",
        "movies[\"avg_rates\"] = avg_rates"
      ],
      "execution_count": 10,
      "outputs": []
    },
    {
      "cell_type": "code",
      "metadata": {
        "colab": {
          "base_uri": "https://localhost:8080/",
          "height": 363
        },
        "id": "vg3JwmViYK0A",
        "outputId": "b845f47b-555a-4fdb-bb39-164d38c225f0"
      },
      "source": [
        "# sort movies by the avg rates\n",
        "movies.sort_values(\"avg_rates\", ascending=False).head(10)"
      ],
      "execution_count": 11,
      "outputs": [
        {
          "output_type": "execute_result",
          "data": {
            "text/html": [
              "<div>\n",
              "<style scoped>\n",
              "    .dataframe tbody tr th:only-of-type {\n",
              "        vertical-align: middle;\n",
              "    }\n",
              "\n",
              "    .dataframe tbody tr th {\n",
              "        vertical-align: top;\n",
              "    }\n",
              "\n",
              "    .dataframe thead th {\n",
              "        text-align: right;\n",
              "    }\n",
              "</style>\n",
              "<table border=\"1\" class=\"dataframe\">\n",
              "  <thead>\n",
              "    <tr style=\"text-align: right;\">\n",
              "      <th></th>\n",
              "      <th>title</th>\n",
              "      <th>gender</th>\n",
              "      <th>total_votes</th>\n",
              "      <th>avg_rates</th>\n",
              "    </tr>\n",
              "    <tr>\n",
              "      <th>movieId</th>\n",
              "      <th></th>\n",
              "      <th></th>\n",
              "      <th></th>\n",
              "      <th></th>\n",
              "    </tr>\n",
              "  </thead>\n",
              "  <tbody>\n",
              "    <tr>\n",
              "      <th>88448</th>\n",
              "      <td>Paper Birds (Pájaros de papel) (2010)</td>\n",
              "      <td>Comedy|Drama</td>\n",
              "      <td>1.0</td>\n",
              "      <td>5.0</td>\n",
              "    </tr>\n",
              "    <tr>\n",
              "      <th>100556</th>\n",
              "      <td>Act of Killing, The (2012)</td>\n",
              "      <td>Documentary</td>\n",
              "      <td>1.0</td>\n",
              "      <td>5.0</td>\n",
              "    </tr>\n",
              "    <tr>\n",
              "      <th>143031</th>\n",
              "      <td>Jump In! (2007)</td>\n",
              "      <td>Comedy|Drama|Romance</td>\n",
              "      <td>1.0</td>\n",
              "      <td>5.0</td>\n",
              "    </tr>\n",
              "    <tr>\n",
              "      <th>143511</th>\n",
              "      <td>Human (2015)</td>\n",
              "      <td>Documentary</td>\n",
              "      <td>1.0</td>\n",
              "      <td>5.0</td>\n",
              "    </tr>\n",
              "    <tr>\n",
              "      <th>143559</th>\n",
              "      <td>L.A. Slasher (2015)</td>\n",
              "      <td>Comedy|Crime|Fantasy</td>\n",
              "      <td>1.0</td>\n",
              "      <td>5.0</td>\n",
              "    </tr>\n",
              "    <tr>\n",
              "      <th>6201</th>\n",
              "      <td>Lady Jane (1986)</td>\n",
              "      <td>Drama|Romance</td>\n",
              "      <td>1.0</td>\n",
              "      <td>5.0</td>\n",
              "    </tr>\n",
              "    <tr>\n",
              "      <th>102217</th>\n",
              "      <td>Bill Hicks: Revelations (1993)</td>\n",
              "      <td>Comedy</td>\n",
              "      <td>1.0</td>\n",
              "      <td>5.0</td>\n",
              "    </tr>\n",
              "    <tr>\n",
              "      <th>102084</th>\n",
              "      <td>Justice League: Doom (2012)</td>\n",
              "      <td>Action|Animation|Fantasy</td>\n",
              "      <td>1.0</td>\n",
              "      <td>5.0</td>\n",
              "    </tr>\n",
              "    <tr>\n",
              "      <th>6192</th>\n",
              "      <td>Open Hearts (Elsker dig for evigt) (2002)</td>\n",
              "      <td>Romance</td>\n",
              "      <td>1.0</td>\n",
              "      <td>5.0</td>\n",
              "    </tr>\n",
              "    <tr>\n",
              "      <th>145994</th>\n",
              "      <td>Formula of Love (1984)</td>\n",
              "      <td>Comedy</td>\n",
              "      <td>1.0</td>\n",
              "      <td>5.0</td>\n",
              "    </tr>\n",
              "  </tbody>\n",
              "</table>\n",
              "</div>"
            ],
            "text/plain": [
              "                                             title  ... avg_rates\n",
              "movieId                                             ...          \n",
              "88448        Paper Birds (Pájaros de papel) (2010)  ...       5.0\n",
              "100556                  Act of Killing, The (2012)  ...       5.0\n",
              "143031                             Jump In! (2007)  ...       5.0\n",
              "143511                                Human (2015)  ...       5.0\n",
              "143559                         L.A. Slasher (2015)  ...       5.0\n",
              "6201                              Lady Jane (1986)  ...       5.0\n",
              "102217              Bill Hicks: Revelations (1993)  ...       5.0\n",
              "102084                Justice League: Doom (2012)   ...       5.0\n",
              "6192     Open Hearts (Elsker dig for evigt) (2002)  ...       5.0\n",
              "145994                      Formula of Love (1984)  ...       5.0\n",
              "\n",
              "[10 rows x 4 columns]"
            ]
          },
          "metadata": {
            "tags": []
          },
          "execution_count": 11
        }
      ]
    },
    {
      "cell_type": "markdown",
      "metadata": {
        "id": "KkqgSD-CYmot"
      },
      "source": [
        "For this method we can see a problem. Some movies has just one vote but average rate of 5 (the maximun). This cannot be accepted as it would deliver a wrong recommendation. To correct this, a filter must be applied to the selected films so that we only have films with a certain number of votes.\n",
        "\n",
        "\n"
      ]
    },
    {
      "cell_type": "code",
      "metadata": {
        "colab": {
          "base_uri": "https://localhost:8080/",
          "height": 363
        },
        "id": "W4BPCIfIZBr0",
        "outputId": "a235ef7f-e75c-4d88-a2d9-ecbbcde19235"
      },
      "source": [
        "# using movies with 50 or more votes\n",
        "movies.query(\"total_votes >= 50\").sort_values(\"avg_rates\", ascending=False).head(10)"
      ],
      "execution_count": 12,
      "outputs": [
        {
          "output_type": "execute_result",
          "data": {
            "text/html": [
              "<div>\n",
              "<style scoped>\n",
              "    .dataframe tbody tr th:only-of-type {\n",
              "        vertical-align: middle;\n",
              "    }\n",
              "\n",
              "    .dataframe tbody tr th {\n",
              "        vertical-align: top;\n",
              "    }\n",
              "\n",
              "    .dataframe thead th {\n",
              "        text-align: right;\n",
              "    }\n",
              "</style>\n",
              "<table border=\"1\" class=\"dataframe\">\n",
              "  <thead>\n",
              "    <tr style=\"text-align: right;\">\n",
              "      <th></th>\n",
              "      <th>title</th>\n",
              "      <th>gender</th>\n",
              "      <th>total_votes</th>\n",
              "      <th>avg_rates</th>\n",
              "    </tr>\n",
              "    <tr>\n",
              "      <th>movieId</th>\n",
              "      <th></th>\n",
              "      <th></th>\n",
              "      <th></th>\n",
              "      <th></th>\n",
              "    </tr>\n",
              "  </thead>\n",
              "  <tbody>\n",
              "    <tr>\n",
              "      <th>318</th>\n",
              "      <td>Shawshank Redemption, The (1994)</td>\n",
              "      <td>Crime|Drama</td>\n",
              "      <td>317.0</td>\n",
              "      <td>4.429022</td>\n",
              "    </tr>\n",
              "    <tr>\n",
              "      <th>858</th>\n",
              "      <td>Godfather, The (1972)</td>\n",
              "      <td>Crime|Drama</td>\n",
              "      <td>192.0</td>\n",
              "      <td>4.289062</td>\n",
              "    </tr>\n",
              "    <tr>\n",
              "      <th>2959</th>\n",
              "      <td>Fight Club (1999)</td>\n",
              "      <td>Action|Crime|Drama|Thriller</td>\n",
              "      <td>218.0</td>\n",
              "      <td>4.272936</td>\n",
              "    </tr>\n",
              "    <tr>\n",
              "      <th>1276</th>\n",
              "      <td>Cool Hand Luke (1967)</td>\n",
              "      <td>Drama</td>\n",
              "      <td>57.0</td>\n",
              "      <td>4.271930</td>\n",
              "    </tr>\n",
              "    <tr>\n",
              "      <th>750</th>\n",
              "      <td>Dr. Strangelove or: How I Learned to Stop Worr...</td>\n",
              "      <td>Comedy|War</td>\n",
              "      <td>97.0</td>\n",
              "      <td>4.268041</td>\n",
              "    </tr>\n",
              "    <tr>\n",
              "      <th>904</th>\n",
              "      <td>Rear Window (1954)</td>\n",
              "      <td>Mystery|Thriller</td>\n",
              "      <td>84.0</td>\n",
              "      <td>4.261905</td>\n",
              "    </tr>\n",
              "    <tr>\n",
              "      <th>1221</th>\n",
              "      <td>Godfather: Part II, The (1974)</td>\n",
              "      <td>Crime|Drama</td>\n",
              "      <td>129.0</td>\n",
              "      <td>4.259690</td>\n",
              "    </tr>\n",
              "    <tr>\n",
              "      <th>48516</th>\n",
              "      <td>Departed, The (2006)</td>\n",
              "      <td>Crime|Drama|Thriller</td>\n",
              "      <td>107.0</td>\n",
              "      <td>4.252336</td>\n",
              "    </tr>\n",
              "    <tr>\n",
              "      <th>1213</th>\n",
              "      <td>Goodfellas (1990)</td>\n",
              "      <td>Crime|Drama</td>\n",
              "      <td>126.0</td>\n",
              "      <td>4.250000</td>\n",
              "    </tr>\n",
              "    <tr>\n",
              "      <th>912</th>\n",
              "      <td>Casablanca (1942)</td>\n",
              "      <td>Drama|Romance</td>\n",
              "      <td>100.0</td>\n",
              "      <td>4.240000</td>\n",
              "    </tr>\n",
              "  </tbody>\n",
              "</table>\n",
              "</div>"
            ],
            "text/plain": [
              "                                                     title  ... avg_rates\n",
              "movieId                                                     ...          \n",
              "318                       Shawshank Redemption, The (1994)  ...  4.429022\n",
              "858                                  Godfather, The (1972)  ...  4.289062\n",
              "2959                                     Fight Club (1999)  ...  4.272936\n",
              "1276                                 Cool Hand Luke (1967)  ...  4.271930\n",
              "750      Dr. Strangelove or: How I Learned to Stop Worr...  ...  4.268041\n",
              "904                                     Rear Window (1954)  ...  4.261905\n",
              "1221                        Godfather: Part II, The (1974)  ...  4.259690\n",
              "48516                                 Departed, The (2006)  ...  4.252336\n",
              "1213                                     Goodfellas (1990)  ...  4.250000\n",
              "912                                      Casablanca (1942)  ...  4.240000\n",
              "\n",
              "[10 rows x 4 columns]"
            ]
          },
          "metadata": {
            "tags": []
          },
          "execution_count": 12
        }
      ]
    },
    {
      "cell_type": "markdown",
      "metadata": {
        "id": "OrhRYnBJb6DM"
      },
      "source": [
        "# Chapter 03 - Some other improvements to the previous model\n",
        "\n",
        "Suppose I watched some of the movies listed on the previous model. Now I have some information about the person to recommend the movie."
      ]
    },
    {
      "cell_type": "code",
      "metadata": {
        "colab": {
          "base_uri": "https://localhost:8080/",
          "height": 277
        },
        "id": "08vEU3GPZuAx",
        "outputId": "a36bdf51-3255-4cc1-8854-6bfa5677825d"
      },
      "source": [
        "# list of movies I has watched\n",
        "\n",
        "I_watched = [1, 21, 19, 10, 11, 7, 2]\n",
        "\n",
        "movies.loc[I_watched]"
      ],
      "execution_count": 13,
      "outputs": [
        {
          "output_type": "execute_result",
          "data": {
            "text/html": [
              "<div>\n",
              "<style scoped>\n",
              "    .dataframe tbody tr th:only-of-type {\n",
              "        vertical-align: middle;\n",
              "    }\n",
              "\n",
              "    .dataframe tbody tr th {\n",
              "        vertical-align: top;\n",
              "    }\n",
              "\n",
              "    .dataframe thead th {\n",
              "        text-align: right;\n",
              "    }\n",
              "</style>\n",
              "<table border=\"1\" class=\"dataframe\">\n",
              "  <thead>\n",
              "    <tr style=\"text-align: right;\">\n",
              "      <th></th>\n",
              "      <th>title</th>\n",
              "      <th>gender</th>\n",
              "      <th>total_votes</th>\n",
              "      <th>avg_rates</th>\n",
              "    </tr>\n",
              "    <tr>\n",
              "      <th>movieId</th>\n",
              "      <th></th>\n",
              "      <th></th>\n",
              "      <th></th>\n",
              "      <th></th>\n",
              "    </tr>\n",
              "  </thead>\n",
              "  <tbody>\n",
              "    <tr>\n",
              "      <th>1</th>\n",
              "      <td>Toy Story (1995)</td>\n",
              "      <td>Adventure|Animation|Children|Comedy|Fantasy</td>\n",
              "      <td>215.0</td>\n",
              "      <td>3.920930</td>\n",
              "    </tr>\n",
              "    <tr>\n",
              "      <th>21</th>\n",
              "      <td>Get Shorty (1995)</td>\n",
              "      <td>Comedy|Crime|Thriller</td>\n",
              "      <td>89.0</td>\n",
              "      <td>3.494382</td>\n",
              "    </tr>\n",
              "    <tr>\n",
              "      <th>19</th>\n",
              "      <td>Ace Ventura: When Nature Calls (1995)</td>\n",
              "      <td>Comedy</td>\n",
              "      <td>88.0</td>\n",
              "      <td>2.727273</td>\n",
              "    </tr>\n",
              "    <tr>\n",
              "      <th>10</th>\n",
              "      <td>GoldenEye (1995)</td>\n",
              "      <td>Action|Adventure|Thriller</td>\n",
              "      <td>132.0</td>\n",
              "      <td>3.496212</td>\n",
              "    </tr>\n",
              "    <tr>\n",
              "      <th>11</th>\n",
              "      <td>American President, The (1995)</td>\n",
              "      <td>Comedy|Drama|Romance</td>\n",
              "      <td>70.0</td>\n",
              "      <td>3.671429</td>\n",
              "    </tr>\n",
              "    <tr>\n",
              "      <th>7</th>\n",
              "      <td>Sabrina (1995)</td>\n",
              "      <td>Comedy|Romance</td>\n",
              "      <td>54.0</td>\n",
              "      <td>3.185185</td>\n",
              "    </tr>\n",
              "    <tr>\n",
              "      <th>2</th>\n",
              "      <td>Jumanji (1995)</td>\n",
              "      <td>Adventure|Children|Fantasy</td>\n",
              "      <td>110.0</td>\n",
              "      <td>3.431818</td>\n",
              "    </tr>\n",
              "  </tbody>\n",
              "</table>\n",
              "</div>"
            ],
            "text/plain": [
              "                                         title  ... avg_rates\n",
              "movieId                                         ...          \n",
              "1                             Toy Story (1995)  ...  3.920930\n",
              "21                           Get Shorty (1995)  ...  3.494382\n",
              "19       Ace Ventura: When Nature Calls (1995)  ...  2.727273\n",
              "10                            GoldenEye (1995)  ...  3.496212\n",
              "11              American President, The (1995)  ...  3.671429\n",
              "7                               Sabrina (1995)  ...  3.185185\n",
              "2                               Jumanji (1995)  ...  3.431818\n",
              "\n",
              "[7 rows x 4 columns]"
            ]
          },
          "metadata": {
            "tags": []
          },
          "execution_count": 13
        }
      ]
    },
    {
      "cell_type": "markdown",
      "metadata": {
        "id": "ZbvrhzQ0cQ0H"
      },
      "source": [
        "I can use the genders of I movie I whatched to recommend other movies."
      ]
    },
    {
      "cell_type": "code",
      "metadata": {
        "colab": {
          "base_uri": "https://localhost:8080/",
          "height": 363
        },
        "id": "R1fYQaehcHpv",
        "outputId": "235afa9c-74c9-4f91-8f33-aa7604503b59"
      },
      "source": [
        "# filter by the gender and sort by the avg_rates\n",
        "movies.query(\"gender=='Comedy|Drama|Romance'\").sort_values(\"avg_rates\", ascending=False).head(10)"
      ],
      "execution_count": 14,
      "outputs": [
        {
          "output_type": "execute_result",
          "data": {
            "text/html": [
              "<div>\n",
              "<style scoped>\n",
              "    .dataframe tbody tr th:only-of-type {\n",
              "        vertical-align: middle;\n",
              "    }\n",
              "\n",
              "    .dataframe tbody tr th {\n",
              "        vertical-align: top;\n",
              "    }\n",
              "\n",
              "    .dataframe thead th {\n",
              "        text-align: right;\n",
              "    }\n",
              "</style>\n",
              "<table border=\"1\" class=\"dataframe\">\n",
              "  <thead>\n",
              "    <tr style=\"text-align: right;\">\n",
              "      <th></th>\n",
              "      <th>title</th>\n",
              "      <th>gender</th>\n",
              "      <th>total_votes</th>\n",
              "      <th>avg_rates</th>\n",
              "    </tr>\n",
              "    <tr>\n",
              "      <th>movieId</th>\n",
              "      <th></th>\n",
              "      <th></th>\n",
              "      <th></th>\n",
              "      <th></th>\n",
              "    </tr>\n",
              "  </thead>\n",
              "  <tbody>\n",
              "    <tr>\n",
              "      <th>3567</th>\n",
              "      <td>Bossa Nova (2000)</td>\n",
              "      <td>Comedy|Drama|Romance</td>\n",
              "      <td>1.0</td>\n",
              "      <td>5.0</td>\n",
              "    </tr>\n",
              "    <tr>\n",
              "      <th>83969</th>\n",
              "      <td>Down Argentine Way (1940)</td>\n",
              "      <td>Comedy|Drama|Romance</td>\n",
              "      <td>1.0</td>\n",
              "      <td>5.0</td>\n",
              "    </tr>\n",
              "    <tr>\n",
              "      <th>26928</th>\n",
              "      <td>Summer's Tale, A (Conte d'été) (1996)</td>\n",
              "      <td>Comedy|Drama|Romance</td>\n",
              "      <td>1.0</td>\n",
              "      <td>5.0</td>\n",
              "    </tr>\n",
              "    <tr>\n",
              "      <th>67618</th>\n",
              "      <td>Strictly Sexual (2008)</td>\n",
              "      <td>Comedy|Drama|Romance</td>\n",
              "      <td>1.0</td>\n",
              "      <td>5.0</td>\n",
              "    </tr>\n",
              "    <tr>\n",
              "      <th>33649</th>\n",
              "      <td>Saving Face (2004)</td>\n",
              "      <td>Comedy|Drama|Romance</td>\n",
              "      <td>1.0</td>\n",
              "      <td>5.0</td>\n",
              "    </tr>\n",
              "    <tr>\n",
              "      <th>26147</th>\n",
              "      <td>Thousand Clowns, A (1965)</td>\n",
              "      <td>Comedy|Drama|Romance</td>\n",
              "      <td>1.0</td>\n",
              "      <td>5.0</td>\n",
              "    </tr>\n",
              "    <tr>\n",
              "      <th>143031</th>\n",
              "      <td>Jump In! (2007)</td>\n",
              "      <td>Comedy|Drama|Romance</td>\n",
              "      <td>1.0</td>\n",
              "      <td>5.0</td>\n",
              "    </tr>\n",
              "    <tr>\n",
              "      <th>158882</th>\n",
              "      <td>All Yours (2016)</td>\n",
              "      <td>Comedy|Drama|Romance</td>\n",
              "      <td>1.0</td>\n",
              "      <td>5.0</td>\n",
              "    </tr>\n",
              "    <tr>\n",
              "      <th>3531</th>\n",
              "      <td>All the Vermeers in New York (1990)</td>\n",
              "      <td>Comedy|Drama|Romance</td>\n",
              "      <td>1.0</td>\n",
              "      <td>5.0</td>\n",
              "    </tr>\n",
              "    <tr>\n",
              "      <th>113829</th>\n",
              "      <td>One I Love, The (2014)</td>\n",
              "      <td>Comedy|Drama|Romance</td>\n",
              "      <td>1.0</td>\n",
              "      <td>5.0</td>\n",
              "    </tr>\n",
              "  </tbody>\n",
              "</table>\n",
              "</div>"
            ],
            "text/plain": [
              "                                         title  ... avg_rates\n",
              "movieId                                         ...          \n",
              "3567                         Bossa Nova (2000)  ...       5.0\n",
              "83969                Down Argentine Way (1940)  ...       5.0\n",
              "26928    Summer's Tale, A (Conte d'été) (1996)  ...       5.0\n",
              "67618                   Strictly Sexual (2008)  ...       5.0\n",
              "33649                       Saving Face (2004)  ...       5.0\n",
              "26147                Thousand Clowns, A (1965)  ...       5.0\n",
              "143031                         Jump In! (2007)  ...       5.0\n",
              "158882                        All Yours (2016)  ...       5.0\n",
              "3531       All the Vermeers in New York (1990)  ...       5.0\n",
              "113829                  One I Love, The (2014)  ...       5.0\n",
              "\n",
              "[10 rows x 4 columns]"
            ]
          },
          "metadata": {
            "tags": []
          },
          "execution_count": 14
        }
      ]
    },
    {
      "cell_type": "code",
      "metadata": {
        "id": "5PUNni9VcnB7"
      },
      "source": [
        "# Now create a list of movies with more than 50 numbers of votes and sort by the avg rate\n",
        "movies_more_than_50 = movies.query(\"total_votes >= 50\").sort_values(\"avg_rates\", ascending=False)"
      ],
      "execution_count": 15,
      "outputs": []
    },
    {
      "cell_type": "markdown",
      "metadata": {
        "id": "VCUdmrWO6khD"
      },
      "source": [
        "Now I can take off the movies I have watched."
      ]
    },
    {
      "cell_type": "code",
      "metadata": {
        "colab": {
          "base_uri": "https://localhost:8080/",
          "height": 363
        },
        "id": "St6Cv0xwdR0Q",
        "outputId": "770817cb-eed1-4c5d-c918-89fe53811b31"
      },
      "source": [
        "crime_drama =  movies_more_than_50.query(\"gender=='Crime|Drama'\")\n",
        "crime_drama.drop(I_watched, errors=\"ignore\").sort_values(\"avg_rates\", ascending=False).head(10)"
      ],
      "execution_count": 16,
      "outputs": [
        {
          "output_type": "execute_result",
          "data": {
            "text/html": [
              "<div>\n",
              "<style scoped>\n",
              "    .dataframe tbody tr th:only-of-type {\n",
              "        vertical-align: middle;\n",
              "    }\n",
              "\n",
              "    .dataframe tbody tr th {\n",
              "        vertical-align: top;\n",
              "    }\n",
              "\n",
              "    .dataframe thead th {\n",
              "        text-align: right;\n",
              "    }\n",
              "</style>\n",
              "<table border=\"1\" class=\"dataframe\">\n",
              "  <thead>\n",
              "    <tr style=\"text-align: right;\">\n",
              "      <th></th>\n",
              "      <th>title</th>\n",
              "      <th>gender</th>\n",
              "      <th>total_votes</th>\n",
              "      <th>avg_rates</th>\n",
              "    </tr>\n",
              "    <tr>\n",
              "      <th>movieId</th>\n",
              "      <th></th>\n",
              "      <th></th>\n",
              "      <th></th>\n",
              "      <th></th>\n",
              "    </tr>\n",
              "  </thead>\n",
              "  <tbody>\n",
              "    <tr>\n",
              "      <th>318</th>\n",
              "      <td>Shawshank Redemption, The (1994)</td>\n",
              "      <td>Crime|Drama</td>\n",
              "      <td>317.0</td>\n",
              "      <td>4.429022</td>\n",
              "    </tr>\n",
              "    <tr>\n",
              "      <th>858</th>\n",
              "      <td>Godfather, The (1972)</td>\n",
              "      <td>Crime|Drama</td>\n",
              "      <td>192.0</td>\n",
              "      <td>4.289062</td>\n",
              "    </tr>\n",
              "    <tr>\n",
              "      <th>1221</th>\n",
              "      <td>Godfather: Part II, The (1974)</td>\n",
              "      <td>Crime|Drama</td>\n",
              "      <td>129.0</td>\n",
              "      <td>4.259690</td>\n",
              "    </tr>\n",
              "    <tr>\n",
              "      <th>1213</th>\n",
              "      <td>Goodfellas (1990)</td>\n",
              "      <td>Crime|Drama</td>\n",
              "      <td>126.0</td>\n",
              "      <td>4.250000</td>\n",
              "    </tr>\n",
              "    <tr>\n",
              "      <th>2329</th>\n",
              "      <td>American History X (1998)</td>\n",
              "      <td>Crime|Drama</td>\n",
              "      <td>129.0</td>\n",
              "      <td>4.217054</td>\n",
              "    </tr>\n",
              "    <tr>\n",
              "      <th>3147</th>\n",
              "      <td>Green Mile, The (1999)</td>\n",
              "      <td>Crime|Drama</td>\n",
              "      <td>111.0</td>\n",
              "      <td>4.148649</td>\n",
              "    </tr>\n",
              "    <tr>\n",
              "      <th>16</th>\n",
              "      <td>Casino (1995)</td>\n",
              "      <td>Crime|Drama</td>\n",
              "      <td>82.0</td>\n",
              "      <td>3.926829</td>\n",
              "    </tr>\n",
              "    <tr>\n",
              "      <th>5989</th>\n",
              "      <td>Catch Me If You Can (2002)</td>\n",
              "      <td>Crime|Drama</td>\n",
              "      <td>115.0</td>\n",
              "      <td>3.921739</td>\n",
              "    </tr>\n",
              "    <tr>\n",
              "      <th>55820</th>\n",
              "      <td>No Country for Old Men (2007)</td>\n",
              "      <td>Crime|Drama</td>\n",
              "      <td>64.0</td>\n",
              "      <td>3.898438</td>\n",
              "    </tr>\n",
              "    <tr>\n",
              "      <th>33166</th>\n",
              "      <td>Crash (2004)</td>\n",
              "      <td>Crime|Drama</td>\n",
              "      <td>50.0</td>\n",
              "      <td>3.890000</td>\n",
              "    </tr>\n",
              "  </tbody>\n",
              "</table>\n",
              "</div>"
            ],
            "text/plain": [
              "                                    title       gender  total_votes  avg_rates\n",
              "movieId                                                                       \n",
              "318      Shawshank Redemption, The (1994)  Crime|Drama        317.0   4.429022\n",
              "858                 Godfather, The (1972)  Crime|Drama        192.0   4.289062\n",
              "1221       Godfather: Part II, The (1974)  Crime|Drama        129.0   4.259690\n",
              "1213                    Goodfellas (1990)  Crime|Drama        126.0   4.250000\n",
              "2329            American History X (1998)  Crime|Drama        129.0   4.217054\n",
              "3147               Green Mile, The (1999)  Crime|Drama        111.0   4.148649\n",
              "16                          Casino (1995)  Crime|Drama         82.0   3.926829\n",
              "5989           Catch Me If You Can (2002)  Crime|Drama        115.0   3.921739\n",
              "55820       No Country for Old Men (2007)  Crime|Drama         64.0   3.898438\n",
              "33166                        Crash (2004)  Crime|Drama         50.0   3.890000"
            ]
          },
          "metadata": {
            "tags": []
          },
          "execution_count": 16
        }
      ]
    },
    {
      "cell_type": "markdown",
      "metadata": {
        "id": "ZZLgLDY4d_fL"
      },
      "source": [
        "# Chapter 05 - Using the rates as distances between different users \n",
        "\n",
        "Given the rates some users has given to any movie, we can place these notes as points on a plane.\n",
        "\n"
      ]
    },
    {
      "cell_type": "markdown",
      "metadata": {
        "id": "iNxbNJ5heJK0"
      },
      "source": [
        "For example, supose the rates of 3 people for the movie toy story and jumanji are:\n",
        "\n",
        "* John - 4 for toy story and 4.5 for jumanji - [4, 4.5]\n",
        "* Maria - 5 for toy story and 5 for jumanji - [5, 5]\n",
        "\n",
        "We can calculate the distance between Paul and Maria using the Pythagorean Theorem:"
      ]
    },
    {
      "cell_type": "code",
      "metadata": {
        "id": "UaiN9k0JgtiV",
        "colab": {
          "base_uri": "https://localhost:8080/",
          "height": 297
        },
        "outputId": "c0793596-f9f3-412e-855e-8ab060c8b9e9"
      },
      "source": [
        "import matplotlib.pyplot as plt\n",
        "\n",
        "plt.plot(4,4.5, \"go\")\n",
        "plt.plot(5,5,\"yo\")\n",
        "plt.legend(['John', 'Maria'])\n",
        "plt.title(\"'Distance between users\")\n",
        "\n",
        "plt.plot([4,5], [4.5,4.5], color = 'b', linestyle='-')\n",
        "plt.plot([4,5], [4.5,5], color = 'b', linestyle='-')\n",
        "plt.plot([5,5], [4.5,5], color = 'b',linestyle='-')"
      ],
      "execution_count": 17,
      "outputs": [
        {
          "output_type": "execute_result",
          "data": {
            "text/plain": [
              "[<matplotlib.lines.Line2D at 0x7f4efe7ef590>]"
            ]
          },
          "metadata": {
            "tags": []
          },
          "execution_count": 17
        },
        {
          "output_type": "display_data",
          "data": {
            "image/png": "[encoded data removed]",
            "text/plain": [
              "<Figure size 432x288 with 1 Axes>"
            ]
          },
          "metadata": {
            "tags": [],
            "needs_background": "light"
          }
        }
      ]
    },
    {
      "cell_type": "markdown",
      "metadata": {
        "id": "_ZJhHphefpHf"
      },
      "source": [
        "Represent the rates of those two as arrays using numpy.\n"
      ]
    },
    {
      "cell_type": "code",
      "metadata": {
        "id": "c2yq7STTdvHu"
      },
      "source": [
        "john = np.array([4,4.5])\n",
        "maria = np.array([5,5])"
      ],
      "execution_count": 18,
      "outputs": []
    },
    {
      "cell_type": "markdown",
      "metadata": {
        "id": "lMEfE1Sz0C9H"
      },
      "source": [
        "Now use the Pythagorean Theorem to calculate the distance."
      ]
    },
    {
      "cell_type": "code",
      "metadata": {
        "id": "nsK8bMu3g1Hg"
      },
      "source": [
        "from math import sqrt\n",
        "def pythagorean(a, b):\n",
        "  delta_x, delta_y = a - b\n",
        "  return sqrt(delta_x*delta_x + delta_y*delta_y)"
      ],
      "execution_count": 19,
      "outputs": []
    },
    {
      "cell_type": "code",
      "metadata": {
        "colab": {
          "base_uri": "https://localhost:8080/"
        },
        "id": "VmBoBfRwhLY_",
        "outputId": "7f66cab4-7530-44ae-df9b-9ac7e7dacd9b"
      },
      "source": [
        "pythagorean(john,maria)"
      ],
      "execution_count": 20,
      "outputs": [
        {
          "output_type": "execute_result",
          "data": {
            "text/plain": [
              "1.118033988749895"
            ]
          },
          "metadata": {
            "tags": []
          },
          "execution_count": 20
        }
      ]
    },
    {
      "cell_type": "markdown",
      "metadata": {
        "id": "Vy7cAHFe1UwQ"
      },
      "source": [
        "There is also a numpy function that calculates this distance."
      ]
    },
    {
      "cell_type": "code",
      "metadata": {
        "colab": {
          "base_uri": "https://localhost:8080/"
        },
        "id": "sjhjIIENhVVL",
        "outputId": "361399e6-4262-4489-f551-b736547a1cd4"
      },
      "source": [
        "np.linalg.norm(john-maria)"
      ],
      "execution_count": 21,
      "outputs": [
        {
          "output_type": "execute_result",
          "data": {
            "text/plain": [
              "1.118033988749895"
            ]
          },
          "metadata": {
            "tags": []
          },
          "execution_count": 21
        }
      ]
    },
    {
      "cell_type": "markdown",
      "metadata": {
        "id": "VjW54PgZ1cwn"
      },
      "source": [
        "Creating a better Pythagorean function"
      ]
    },
    {
      "cell_type": "code",
      "metadata": {
        "id": "kBugPqhMhh0e"
      },
      "source": [
        "def pythagorean(a,b):\n",
        "  return np.linalg.norm(a-b)"
      ],
      "execution_count": 22,
      "outputs": []
    },
    {
      "cell_type": "code",
      "metadata": {
        "colab": {
          "base_uri": "https://localhost:8080/"
        },
        "id": "tR7jBJV0hnk8",
        "outputId": "9c76e2ba-e95d-478a-f4f8-03346c4079ea"
      },
      "source": [
        "pythagorean(john,maria)"
      ],
      "execution_count": 23,
      "outputs": [
        {
          "output_type": "execute_result",
          "data": {
            "text/plain": [
              "1.118033988749895"
            ]
          },
          "metadata": {
            "tags": []
          },
          "execution_count": 23
        }
      ]
    },
    {
      "cell_type": "markdown",
      "metadata": {
        "id": "olEGqtYMiNQH"
      },
      "source": [
        "Rename the function to 'distance'."
      ]
    },
    {
      "cell_type": "code",
      "metadata": {
        "id": "o3auLsQdiLuu"
      },
      "source": [
        "def distance(a,b):\n",
        "  return np.linalg.norm(a-b)"
      ],
      "execution_count": 24,
      "outputs": []
    },
    {
      "cell_type": "markdown",
      "metadata": {
        "id": "9HM0zU5zjmUr"
      },
      "source": [
        "# Chapter 06 - Apply the distance concept for every user in the dataset\n",
        "\n",
        "First I created a function to take the rates of each user.\n"
      ]
    },
    {
      "cell_type": "code",
      "metadata": {
        "id": "XAKm89Do3Vuo"
      },
      "source": [
        "def rate_user(user):\n",
        "  rate_user = rate.query('userId == %d' % user)\n",
        "  rate_user = rate_user[['movieId', 'rate']].set_index('movieId')\n",
        "  return rate_user"
      ],
      "execution_count": 25,
      "outputs": []
    },
    {
      "cell_type": "code",
      "metadata": {
        "colab": {
          "base_uri": "https://localhost:8080/",
          "height": 220
        },
        "id": "YqhHlGtX3ioN",
        "outputId": "d20b9f66-17e9-4b5c-9879-50e249815911"
      },
      "source": [
        "# show the rates that the user 1 gave to each movie\n",
        "user1 = rate_user(1)\n",
        "user1.head()"
      ],
      "execution_count": 26,
      "outputs": [
        {
          "output_type": "execute_result",
          "data": {
            "text/html": [
              "<div>\n",
              "<style scoped>\n",
              "    .dataframe tbody tr th:only-of-type {\n",
              "        vertical-align: middle;\n",
              "    }\n",
              "\n",
              "    .dataframe tbody tr th {\n",
              "        vertical-align: top;\n",
              "    }\n",
              "\n",
              "    .dataframe thead th {\n",
              "        text-align: right;\n",
              "    }\n",
              "</style>\n",
              "<table border=\"1\" class=\"dataframe\">\n",
              "  <thead>\n",
              "    <tr style=\"text-align: right;\">\n",
              "      <th></th>\n",
              "      <th>rate</th>\n",
              "    </tr>\n",
              "    <tr>\n",
              "      <th>movieId</th>\n",
              "      <th></th>\n",
              "    </tr>\n",
              "  </thead>\n",
              "  <tbody>\n",
              "    <tr>\n",
              "      <th>1</th>\n",
              "      <td>4.0</td>\n",
              "    </tr>\n",
              "    <tr>\n",
              "      <th>3</th>\n",
              "      <td>4.0</td>\n",
              "    </tr>\n",
              "    <tr>\n",
              "      <th>6</th>\n",
              "      <td>4.0</td>\n",
              "    </tr>\n",
              "    <tr>\n",
              "      <th>47</th>\n",
              "      <td>5.0</td>\n",
              "    </tr>\n",
              "    <tr>\n",
              "      <th>50</th>\n",
              "      <td>5.0</td>\n",
              "    </tr>\n",
              "  </tbody>\n",
              "</table>\n",
              "</div>"
            ],
            "text/plain": [
              "         rate\n",
              "movieId      \n",
              "1         4.0\n",
              "3         4.0\n",
              "6         4.0\n",
              "47        5.0\n",
              "50        5.0"
            ]
          },
          "metadata": {
            "tags": []
          },
          "execution_count": 26
        }
      ]
    },
    {
      "cell_type": "markdown",
      "metadata": {
        "id": "VmLcoZ1T9JGj"
      },
      "source": [
        "Create a function to calculate the distance between two arrays."
      ]
    },
    {
      "cell_type": "code",
      "metadata": {
        "id": "ZSSYJ04DlKru"
      },
      "source": [
        "def distance_arrays(a,b):\n",
        "  return np.linalg.norm(a-b)"
      ],
      "execution_count": 27,
      "outputs": []
    },
    {
      "cell_type": "markdown",
      "metadata": {
        "id": "LzS-ZlqV8pPh"
      },
      "source": [
        "Create a function to show the distance between each user."
      ]
    },
    {
      "cell_type": "code",
      "metadata": {
        "id": "P2TC6QCNmzPI"
      },
      "source": [
        "def distance_users(userId1, userId2):\n",
        "  rates1 = rate_user(userId1)\n",
        "  rates2 = rate_user(userId2)\n",
        "\n",
        "  difference = rates1.join(rates2, lsuffix = '_left', rsuffix = '_rigth').dropna()\n",
        "\n",
        "  return distance_arrays(difference['rate_left'], difference['rate_rigth'])"
      ],
      "execution_count": 28,
      "outputs": []
    },
    {
      "cell_type": "code",
      "metadata": {
        "colab": {
          "base_uri": "https://localhost:8080/"
        },
        "id": "fk8N1qHXnmgo",
        "outputId": "cbaf24f6-1d36-4669-cf33-414c630fa641"
      },
      "source": [
        "# distance between users 1 and 4\n",
        "distance_users(1,4)"
      ],
      "execution_count": 29,
      "outputs": [
        {
          "output_type": "execute_result",
          "data": {
            "text/plain": [
              "11.135528725660043"
            ]
          },
          "metadata": {
            "tags": []
          },
          "execution_count": 29
        }
      ]
    },
    {
      "cell_type": "markdown",
      "metadata": {
        "id": "uNH5yEYmu0C_"
      },
      "source": [
        "# Chapter 06 - Calculate the distance between one user and every other in the dataset\n",
        "\n",
        "Now apply the function to every possible combination of two users.\n",
        "\n",
        "FIrs count the number of users."
      ]
    },
    {
      "cell_type": "code",
      "metadata": {
        "colab": {
          "base_uri": "https://localhost:8080/"
        },
        "id": "wJkD1aZWu1Mp",
        "outputId": "86c6a47b-c83f-4215-96d0-cd1494495bec"
      },
      "source": [
        "count_users = len(rate['userId'].unique())\n",
        "\n",
        "print('We have %d users' % count_users)"
      ],
      "execution_count": 33,
      "outputs": [
        {
          "output_type": "stream",
          "text": [
            "We have 610 users\n"
          ],
          "name": "stdout"
        }
      ]
    },
    {
      "cell_type": "markdown",
      "metadata": {
        "id": "tqwTjXP1vTU-"
      },
      "source": [
        "Every user will have 609 counts of distance between each other.\n",
        "\n",
        "Change the last function to show the users the distance is calculated."
      ]
    },
    {
      "cell_type": "code",
      "metadata": {
        "id": "L8hSdcccvKS4"
      },
      "source": [
        "def distance_users(userId1, userId2):\n",
        "  rates1 = rate_user(userId1)\n",
        "  rates2 = rate_user(userId2)\n",
        "\n",
        "  difference = rates1.join(rates2, lsuffix = '_left', rsuffix = '_rigth').dropna()\n",
        "\n",
        "  distance = distance_arrays(difference['rate_left'], difference['rate_rigth'])\n",
        "\n",
        "  return [userId1, userId2, distance]"
      ],
      "execution_count": 38,
      "outputs": []
    },
    {
      "cell_type": "code",
      "metadata": {
        "colab": {
          "base_uri": "https://localhost:8080/"
        },
        "id": "HcyxhZ4qvvHd",
        "outputId": "5bf84079-25ae-4e00-f41a-5e584e9b98a9"
      },
      "source": [
        "distance_users(1,4)"
      ],
      "execution_count": 39,
      "outputs": [
        {
          "output_type": "execute_result",
          "data": {
            "text/plain": [
              "[1, 4, 11.135528725660043]"
            ]
          },
          "metadata": {
            "tags": []
          },
          "execution_count": 39
        }
      ]
    },
    {
      "cell_type": "markdown",
      "metadata": {
        "id": "kxOP_kt7i__P"
      },
      "source": [
        "Create a function to iterate over every user and get the distances."
      ]
    },
    {
      "cell_type": "code",
      "metadata": {
        "id": "Z7JxuNNfwLoE"
      },
      "source": [
        "def distance_all(youId):\n",
        "  distance = []\n",
        "  for userId in rate['userId'].unique():\n",
        "    information = distance_users(youId, userId)\n",
        "    distance.append(information)\n",
        "  return distance"
      ],
      "execution_count": 43,
      "outputs": []
    },
    {
      "cell_type": "code",
      "metadata": {
        "colab": {
          "base_uri": "https://localhost:8080/"
        },
        "id": "O_Eq1wqkxH8M",
        "outputId": "a09bf955-2041-4648-9650-db5a42ce9f8a"
      },
      "source": [
        "youId = 1\n",
        "distance_all(youId)[:5]"
      ],
      "execution_count": 45,
      "outputs": [
        {
          "output_type": "execute_result",
          "data": {
            "text/plain": [
              "[[1, 1, 0.0],\n",
              " [1, 2, 1.4142135623730951],\n",
              " [1, 3, 8.200609733428363],\n",
              " [1, 4, 11.135528725660043],\n",
              " [1, 5, 3.7416573867739413]]"
            ]
          },
          "metadata": {
            "tags": []
          },
          "execution_count": 45
        }
      ]
    },
    {
      "cell_type": "markdown",
      "metadata": {
        "id": "etKXNV1ijlN7"
      },
      "source": [
        "We can change the last function."
      ]
    },
    {
      "cell_type": "code",
      "metadata": {
        "id": "Zo5mLK62xNS5"
      },
      "source": [
        "def distance_all(youId):\n",
        "  all_users = rate['userId'].unique()\n",
        "  distances = [distance_users(youId, userId) for userId in all_users]\n",
        "  distances = pd.DataFrame(distances, columns = ['you', 'other_person', 'distance']) # create a pandas DataFrame\n",
        "  return distances"
      ],
      "execution_count": 50,
      "outputs": []
    },
    {
      "cell_type": "code",
      "metadata": {
        "colab": {
          "base_uri": "https://localhost:8080/",
          "height": 191
        },
        "id": "wbDGzjZsxyyR",
        "outputId": "9bb352c6-b2c5-42df-959d-ad95c051eb66"
      },
      "source": [
        "distance_all(1).head()"
      ],
      "execution_count": 52,
      "outputs": [
        {
          "output_type": "execute_result",
          "data": {
            "text/html": [
              "<div>\n",
              "<style scoped>\n",
              "    .dataframe tbody tr th:only-of-type {\n",
              "        vertical-align: middle;\n",
              "    }\n",
              "\n",
              "    .dataframe tbody tr th {\n",
              "        vertical-align: top;\n",
              "    }\n",
              "\n",
              "    .dataframe thead th {\n",
              "        text-align: right;\n",
              "    }\n",
              "</style>\n",
              "<table border=\"1\" class=\"dataframe\">\n",
              "  <thead>\n",
              "    <tr style=\"text-align: right;\">\n",
              "      <th></th>\n",
              "      <th>you</th>\n",
              "      <th>other_person</th>\n",
              "      <th>distance</th>\n",
              "    </tr>\n",
              "  </thead>\n",
              "  <tbody>\n",
              "    <tr>\n",
              "      <th>0</th>\n",
              "      <td>1</td>\n",
              "      <td>1</td>\n",
              "      <td>0.000000</td>\n",
              "    </tr>\n",
              "    <tr>\n",
              "      <th>1</th>\n",
              "      <td>1</td>\n",
              "      <td>2</td>\n",
              "      <td>1.414214</td>\n",
              "    </tr>\n",
              "    <tr>\n",
              "      <th>2</th>\n",
              "      <td>1</td>\n",
              "      <td>3</td>\n",
              "      <td>8.200610</td>\n",
              "    </tr>\n",
              "    <tr>\n",
              "      <th>3</th>\n",
              "      <td>1</td>\n",
              "      <td>4</td>\n",
              "      <td>11.135529</td>\n",
              "    </tr>\n",
              "    <tr>\n",
              "      <th>4</th>\n",
              "      <td>1</td>\n",
              "      <td>5</td>\n",
              "      <td>3.741657</td>\n",
              "    </tr>\n",
              "  </tbody>\n",
              "</table>\n",
              "</div>"
            ],
            "text/plain": [
              "   you  other_person   distance\n",
              "0    1             1   0.000000\n",
              "1    1             2   1.414214\n",
              "2    1             3   8.200610\n",
              "3    1             4  11.135529\n",
              "4    1             5   3.741657"
            ]
          },
          "metadata": {
            "tags": []
          },
          "execution_count": 52
        }
      ]
    },
    {
      "cell_type": "markdown",
      "metadata": {
        "id": "VEexwQm0zodA"
      },
      "source": [
        "# Chapter 07 - Fix the last function\n",
        "\n",
        "In the function distance_all created, we can have some users with no rates given to a movie compared to the youId chosed. For that cases, the results of the function are wrong. In this chapter I fix that issue. "
      ]
    },
    {
      "cell_type": "markdown",
      "metadata": {
        "id": "Ubrek2vp0aFF"
      },
      "source": [
        "One way to fix that problem is to put a huge distance between users withou equal movies."
      ]
    },
    {
      "cell_type": "code",
      "metadata": {
        "id": "WcrfAQFzzyTM"
      },
      "source": [
        "def distance_users(userId1, userId2, min = 5):\n",
        "  rates1 = rate_user(userId1)\n",
        "  rates2 = rate_user(userId2)\n",
        "\n",
        "  difference = rates1.join(rates2, lsuffix = '_left', rsuffix = '_rigth').dropna()\n",
        "\n",
        "  if (len(difference) < min):\n",
        "    return [userId1, userId2, 10000]\n",
        "\n",
        "  distance = distance_arrays(difference['rate_left'], difference['rate_rigth'])\n",
        "\n",
        "  return [userId1, userId2, distance]"
      ],
      "execution_count": 56,
      "outputs": []
    },
    {
      "cell_type": "code",
      "metadata": {
        "id": "fB-5lVvu08Jc"
      },
      "source": [
        "def distance_all(youId):\n",
        "  all_users = rate['userId'].unique()\n",
        "  distances = [distance_users(youId, userId) for userId in all_users]\n",
        "  distances = pd.DataFrame(distances, columns = ['you', 'other_person', 'distance'])\n",
        "  return distances"
      ],
      "execution_count": 57,
      "outputs": []
    },
    {
      "cell_type": "code",
      "metadata": {
        "colab": {
          "base_uri": "https://localhost:8080/",
          "height": 191
        },
        "id": "8m4PAd_l0_X5",
        "outputId": "8f33b403-3659-4816-b6f2-b64f8c9f75d8"
      },
      "source": [
        "distance_all(1).head()"
      ],
      "execution_count": 58,
      "outputs": [
        {
          "output_type": "execute_result",
          "data": {
            "text/html": [
              "<div>\n",
              "<style scoped>\n",
              "    .dataframe tbody tr th:only-of-type {\n",
              "        vertical-align: middle;\n",
              "    }\n",
              "\n",
              "    .dataframe tbody tr th {\n",
              "        vertical-align: top;\n",
              "    }\n",
              "\n",
              "    .dataframe thead th {\n",
              "        text-align: right;\n",
              "    }\n",
              "</style>\n",
              "<table border=\"1\" class=\"dataframe\">\n",
              "  <thead>\n",
              "    <tr style=\"text-align: right;\">\n",
              "      <th></th>\n",
              "      <th>you</th>\n",
              "      <th>other_person</th>\n",
              "      <th>distance</th>\n",
              "    </tr>\n",
              "  </thead>\n",
              "  <tbody>\n",
              "    <tr>\n",
              "      <th>0</th>\n",
              "      <td>1</td>\n",
              "      <td>1</td>\n",
              "      <td>0.000000</td>\n",
              "    </tr>\n",
              "    <tr>\n",
              "      <th>1</th>\n",
              "      <td>1</td>\n",
              "      <td>2</td>\n",
              "      <td>10000.000000</td>\n",
              "    </tr>\n",
              "    <tr>\n",
              "      <th>2</th>\n",
              "      <td>1</td>\n",
              "      <td>3</td>\n",
              "      <td>8.200610</td>\n",
              "    </tr>\n",
              "    <tr>\n",
              "      <th>3</th>\n",
              "      <td>1</td>\n",
              "      <td>4</td>\n",
              "      <td>11.135529</td>\n",
              "    </tr>\n",
              "    <tr>\n",
              "      <th>4</th>\n",
              "      <td>1</td>\n",
              "      <td>5</td>\n",
              "      <td>3.741657</td>\n",
              "    </tr>\n",
              "  </tbody>\n",
              "</table>\n",
              "</div>"
            ],
            "text/plain": [
              "   you  other_person      distance\n",
              "0    1             1      0.000000\n",
              "1    1             2  10000.000000\n",
              "2    1             3      8.200610\n",
              "3    1             4     11.135529\n",
              "4    1             5      3.741657"
            ]
          },
          "metadata": {
            "tags": []
          },
          "execution_count": 58
        }
      ]
    },
    {
      "cell_type": "markdown",
      "metadata": {
        "id": "mCwR4f6MnlI7"
      },
      "source": [
        "Note that the distance between users 1 and 2 are equal to 10000. This two don't have any movie in comum."
      ]
    },
    {
      "cell_type": "markdown",
      "metadata": {
        "id": "BaYm2tjrnzpW"
      },
      "source": [
        "Now create a function to show users with less distance from each other."
      ]
    },
    {
      "cell_type": "code",
      "metadata": {
        "id": "3ug7pNp91CFO"
      },
      "source": [
        "def more_close(youId):\n",
        "  distance = distance_all(youId)\n",
        "  distance = distance.sort_values('distance')\n",
        "  return distance"
      ],
      "execution_count": 59,
      "outputs": []
    },
    {
      "cell_type": "code",
      "metadata": {
        "colab": {
          "base_uri": "https://localhost:8080/",
          "height": 191
        },
        "id": "ijiUIopM1sXo",
        "outputId": "daf39faf-84f8-405a-e32d-d17ea0412cdb"
      },
      "source": [
        "more_close(1).head()"
      ],
      "execution_count": 60,
      "outputs": [
        {
          "output_type": "execute_result",
          "data": {
            "text/html": [
              "<div>\n",
              "<style scoped>\n",
              "    .dataframe tbody tr th:only-of-type {\n",
              "        vertical-align: middle;\n",
              "    }\n",
              "\n",
              "    .dataframe tbody tr th {\n",
              "        vertical-align: top;\n",
              "    }\n",
              "\n",
              "    .dataframe thead th {\n",
              "        text-align: right;\n",
              "    }\n",
              "</style>\n",
              "<table border=\"1\" class=\"dataframe\">\n",
              "  <thead>\n",
              "    <tr style=\"text-align: right;\">\n",
              "      <th></th>\n",
              "      <th>you</th>\n",
              "      <th>other_person</th>\n",
              "      <th>distance</th>\n",
              "    </tr>\n",
              "  </thead>\n",
              "  <tbody>\n",
              "    <tr>\n",
              "      <th>0</th>\n",
              "      <td>1</td>\n",
              "      <td>1</td>\n",
              "      <td>0.000000</td>\n",
              "    </tr>\n",
              "    <tr>\n",
              "      <th>76</th>\n",
              "      <td>1</td>\n",
              "      <td>77</td>\n",
              "      <td>0.000000</td>\n",
              "    </tr>\n",
              "    <tr>\n",
              "      <th>510</th>\n",
              "      <td>1</td>\n",
              "      <td>511</td>\n",
              "      <td>0.500000</td>\n",
              "    </tr>\n",
              "    <tr>\n",
              "      <th>365</th>\n",
              "      <td>1</td>\n",
              "      <td>366</td>\n",
              "      <td>0.707107</td>\n",
              "    </tr>\n",
              "    <tr>\n",
              "      <th>522</th>\n",
              "      <td>1</td>\n",
              "      <td>523</td>\n",
              "      <td>1.000000</td>\n",
              "    </tr>\n",
              "  </tbody>\n",
              "</table>\n",
              "</div>"
            ],
            "text/plain": [
              "     you  other_person  distance\n",
              "0      1             1  0.000000\n",
              "76     1            77  0.000000\n",
              "510    1           511  0.500000\n",
              "365    1           366  0.707107\n",
              "522    1           523  1.000000"
            ]
          },
          "metadata": {
            "tags": []
          },
          "execution_count": 60
        }
      ]
    },
    {
      "cell_type": "markdown",
      "metadata": {
        "id": "afgPGjnRoNnp"
      },
      "source": [
        "Improve the last function to take off the user compared with the others."
      ]
    },
    {
      "cell_type": "code",
      "metadata": {
        "id": "rGSI00aw1wTh"
      },
      "source": [
        "def more_close(youId):\n",
        "  distance = distance_all(youId)\n",
        "  distance = distance.sort_values('distance')\n",
        "  distance = distance.set_index('other_person').drop(youId)\n",
        "  return distance"
      ],
      "execution_count": 61,
      "outputs": []
    },
    {
      "cell_type": "code",
      "metadata": {
        "colab": {
          "base_uri": "https://localhost:8080/",
          "height": 420
        },
        "id": "gs6siR5G2VC7",
        "outputId": "1d46e6c8-5378-4af4-d4f3-ba2478596b1d"
      },
      "source": [
        "more_close(1)"
      ],
      "execution_count": 64,
      "outputs": [
        {
          "output_type": "execute_result",
          "data": {
            "text/html": [
              "<div>\n",
              "<style scoped>\n",
              "    .dataframe tbody tr th:only-of-type {\n",
              "        vertical-align: middle;\n",
              "    }\n",
              "\n",
              "    .dataframe tbody tr th {\n",
              "        vertical-align: top;\n",
              "    }\n",
              "\n",
              "    .dataframe thead th {\n",
              "        text-align: right;\n",
              "    }\n",
              "</style>\n",
              "<table border=\"1\" class=\"dataframe\">\n",
              "  <thead>\n",
              "    <tr style=\"text-align: right;\">\n",
              "      <th></th>\n",
              "      <th>you</th>\n",
              "      <th>distance</th>\n",
              "    </tr>\n",
              "    <tr>\n",
              "      <th>other_person</th>\n",
              "      <th></th>\n",
              "      <th></th>\n",
              "    </tr>\n",
              "  </thead>\n",
              "  <tbody>\n",
              "    <tr>\n",
              "      <th>77</th>\n",
              "      <td>1</td>\n",
              "      <td>0.000000</td>\n",
              "    </tr>\n",
              "    <tr>\n",
              "      <th>511</th>\n",
              "      <td>1</td>\n",
              "      <td>0.500000</td>\n",
              "    </tr>\n",
              "    <tr>\n",
              "      <th>366</th>\n",
              "      <td>1</td>\n",
              "      <td>0.707107</td>\n",
              "    </tr>\n",
              "    <tr>\n",
              "      <th>523</th>\n",
              "      <td>1</td>\n",
              "      <td>1.000000</td>\n",
              "    </tr>\n",
              "    <tr>\n",
              "      <th>49</th>\n",
              "      <td>1</td>\n",
              "      <td>1.000000</td>\n",
              "    </tr>\n",
              "    <tr>\n",
              "      <th>...</th>\n",
              "      <td>...</td>\n",
              "      <td>...</td>\n",
              "    </tr>\n",
              "    <tr>\n",
              "      <th>190</th>\n",
              "      <td>1</td>\n",
              "      <td>10000.000000</td>\n",
              "    </tr>\n",
              "    <tr>\n",
              "      <th>60</th>\n",
              "      <td>1</td>\n",
              "      <td>10000.000000</td>\n",
              "    </tr>\n",
              "    <tr>\n",
              "      <th>576</th>\n",
              "      <td>1</td>\n",
              "      <td>10000.000000</td>\n",
              "    </tr>\n",
              "    <tr>\n",
              "      <th>545</th>\n",
              "      <td>1</td>\n",
              "      <td>10000.000000</td>\n",
              "    </tr>\n",
              "    <tr>\n",
              "      <th>499</th>\n",
              "      <td>1</td>\n",
              "      <td>10000.000000</td>\n",
              "    </tr>\n",
              "  </tbody>\n",
              "</table>\n",
              "<p>609 rows × 2 columns</p>\n",
              "</div>"
            ],
            "text/plain": [
              "              you      distance\n",
              "other_person                   \n",
              "77              1      0.000000\n",
              "511             1      0.500000\n",
              "366             1      0.707107\n",
              "523             1      1.000000\n",
              "49              1      1.000000\n",
              "...           ...           ...\n",
              "190             1  10000.000000\n",
              "60              1  10000.000000\n",
              "576             1  10000.000000\n",
              "545             1  10000.000000\n",
              "499             1  10000.000000\n",
              "\n",
              "[609 rows x 2 columns]"
            ]
          },
          "metadata": {
            "tags": []
          },
          "execution_count": 64
        }
      ]
    },
    {
      "cell_type": "markdown",
      "metadata": {
        "id": "B_Z44gcD0MuN"
      },
      "source": [
        "# Chapter 08 - Create a way to test the system\n",
        "\n",
        "First chose the quantity of users to compare the distance."
      ]
    },
    {
      "cell_type": "code",
      "metadata": {
        "id": "M99UNwDa2WOq"
      },
      "source": [
        "def more_close(youId, user_analyse = None):\n",
        "  distance = distance_all(youId, user_analyse)\n",
        "  distance = distance.sort_values('distance')\n",
        "  distance = distance.set_index('other_person').drop(youId)\n",
        "  return distance"
      ],
      "execution_count": 85,
      "outputs": []
    },
    {
      "cell_type": "code",
      "metadata": {
        "id": "yL60GFpQ0lYA"
      },
      "source": [
        "def distance_all(youId, user_analyse = None):\n",
        "  all_users = rate['userId'].unique()\n",
        "  if user_analyse:\n",
        "    all_users = all_users[:user_analyse]\n",
        "  distance = [distance_users(youId, userId) for userId in all_users]\n",
        "  distance = pd.DataFrame(distance, columns = ['you', 'other_person', 'distance'])\n",
        "  return distance"
      ],
      "execution_count": 86,
      "outputs": []
    },
    {
      "cell_type": "code",
      "metadata": {
        "colab": {
          "base_uri": "https://localhost:8080/",
          "height": 1000
        },
        "id": "MNeWh2JZ0yPA",
        "outputId": "76d1747b-a8c1-4930-b938-c0e424b0279f"
      },
      "source": [
        "more_close(1, user_analyse = 50)\n",
        "# passa somente pelos 50 primeiros usuários"
      ],
      "execution_count": 87,
      "outputs": [
        {
          "output_type": "execute_result",
          "data": {
            "text/html": [
              "<div>\n",
              "<style scoped>\n",
              "    .dataframe tbody tr th:only-of-type {\n",
              "        vertical-align: middle;\n",
              "    }\n",
              "\n",
              "    .dataframe tbody tr th {\n",
              "        vertical-align: top;\n",
              "    }\n",
              "\n",
              "    .dataframe thead th {\n",
              "        text-align: right;\n",
              "    }\n",
              "</style>\n",
              "<table border=\"1\" class=\"dataframe\">\n",
              "  <thead>\n",
              "    <tr style=\"text-align: right;\">\n",
              "      <th></th>\n",
              "      <th>you</th>\n",
              "      <th>distance</th>\n",
              "    </tr>\n",
              "    <tr>\n",
              "      <th>other_person</th>\n",
              "      <th></th>\n",
              "      <th></th>\n",
              "    </tr>\n",
              "  </thead>\n",
              "  <tbody>\n",
              "    <tr>\n",
              "      <th>49</th>\n",
              "      <td>1</td>\n",
              "      <td>1.000000</td>\n",
              "    </tr>\n",
              "    <tr>\n",
              "      <th>9</th>\n",
              "      <td>1</td>\n",
              "      <td>1.000000</td>\n",
              "    </tr>\n",
              "    <tr>\n",
              "      <th>13</th>\n",
              "      <td>1</td>\n",
              "      <td>1.414214</td>\n",
              "    </tr>\n",
              "    <tr>\n",
              "      <th>25</th>\n",
              "      <td>1</td>\n",
              "      <td>1.414214</td>\n",
              "    </tr>\n",
              "    <tr>\n",
              "      <th>30</th>\n",
              "      <td>1</td>\n",
              "      <td>1.802776</td>\n",
              "    </tr>\n",
              "    <tr>\n",
              "      <th>35</th>\n",
              "      <td>1</td>\n",
              "      <td>2.236068</td>\n",
              "    </tr>\n",
              "    <tr>\n",
              "      <th>26</th>\n",
              "      <td>1</td>\n",
              "      <td>2.236068</td>\n",
              "    </tr>\n",
              "    <tr>\n",
              "      <th>46</th>\n",
              "      <td>1</td>\n",
              "      <td>3.316625</td>\n",
              "    </tr>\n",
              "    <tr>\n",
              "      <th>8</th>\n",
              "      <td>1</td>\n",
              "      <td>3.741657</td>\n",
              "    </tr>\n",
              "    <tr>\n",
              "      <th>44</th>\n",
              "      <td>1</td>\n",
              "      <td>3.741657</td>\n",
              "    </tr>\n",
              "    <tr>\n",
              "      <th>5</th>\n",
              "      <td>1</td>\n",
              "      <td>3.741657</td>\n",
              "    </tr>\n",
              "    <tr>\n",
              "      <th>37</th>\n",
              "      <td>1</td>\n",
              "      <td>4.000000</td>\n",
              "    </tr>\n",
              "    <tr>\n",
              "      <th>48</th>\n",
              "      <td>1</td>\n",
              "      <td>4.123106</td>\n",
              "    </tr>\n",
              "    <tr>\n",
              "      <th>11</th>\n",
              "      <td>1</td>\n",
              "      <td>4.242641</td>\n",
              "    </tr>\n",
              "    <tr>\n",
              "      <th>24</th>\n",
              "      <td>1</td>\n",
              "      <td>4.415880</td>\n",
              "    </tr>\n",
              "    <tr>\n",
              "      <th>29</th>\n",
              "      <td>1</td>\n",
              "      <td>4.555217</td>\n",
              "    </tr>\n",
              "    <tr>\n",
              "      <th>31</th>\n",
              "      <td>1</td>\n",
              "      <td>4.582576</td>\n",
              "    </tr>\n",
              "    <tr>\n",
              "      <th>17</th>\n",
              "      <td>1</td>\n",
              "      <td>4.609772</td>\n",
              "    </tr>\n",
              "    <tr>\n",
              "      <th>43</th>\n",
              "      <td>1</td>\n",
              "      <td>4.795832</td>\n",
              "    </tr>\n",
              "    <tr>\n",
              "      <th>14</th>\n",
              "      <td>1</td>\n",
              "      <td>5.000000</td>\n",
              "    </tr>\n",
              "    <tr>\n",
              "      <th>32</th>\n",
              "      <td>1</td>\n",
              "      <td>5.196152</td>\n",
              "    </tr>\n",
              "    <tr>\n",
              "      <th>22</th>\n",
              "      <td>1</td>\n",
              "      <td>5.244044</td>\n",
              "    </tr>\n",
              "    <tr>\n",
              "      <th>23</th>\n",
              "      <td>1</td>\n",
              "      <td>5.408327</td>\n",
              "    </tr>\n",
              "    <tr>\n",
              "      <th>38</th>\n",
              "      <td>1</td>\n",
              "      <td>5.567764</td>\n",
              "    </tr>\n",
              "    <tr>\n",
              "      <th>15</th>\n",
              "      <td>1</td>\n",
              "      <td>5.852350</td>\n",
              "    </tr>\n",
              "    <tr>\n",
              "      <th>33</th>\n",
              "      <td>1</td>\n",
              "      <td>5.916080</td>\n",
              "    </tr>\n",
              "    <tr>\n",
              "      <th>47</th>\n",
              "      <td>1</td>\n",
              "      <td>6.244998</td>\n",
              "    </tr>\n",
              "    <tr>\n",
              "      <th>34</th>\n",
              "      <td>1</td>\n",
              "      <td>6.363961</td>\n",
              "    </tr>\n",
              "    <tr>\n",
              "      <th>20</th>\n",
              "      <td>1</td>\n",
              "      <td>6.480741</td>\n",
              "    </tr>\n",
              "    <tr>\n",
              "      <th>36</th>\n",
              "      <td>1</td>\n",
              "      <td>6.519202</td>\n",
              "    </tr>\n",
              "    <tr>\n",
              "      <th>40</th>\n",
              "      <td>1</td>\n",
              "      <td>6.855655</td>\n",
              "    </tr>\n",
              "    <tr>\n",
              "      <th>7</th>\n",
              "      <td>1</td>\n",
              "      <td>7.106335</td>\n",
              "    </tr>\n",
              "    <tr>\n",
              "      <th>16</th>\n",
              "      <td>1</td>\n",
              "      <td>7.228416</td>\n",
              "    </tr>\n",
              "    <tr>\n",
              "      <th>50</th>\n",
              "      <td>1</td>\n",
              "      <td>7.331439</td>\n",
              "    </tr>\n",
              "    <tr>\n",
              "      <th>10</th>\n",
              "      <td>1</td>\n",
              "      <td>7.858117</td>\n",
              "    </tr>\n",
              "    <tr>\n",
              "      <th>3</th>\n",
              "      <td>1</td>\n",
              "      <td>8.200610</td>\n",
              "    </tr>\n",
              "    <tr>\n",
              "      <th>18</th>\n",
              "      <td>1</td>\n",
              "      <td>8.426150</td>\n",
              "    </tr>\n",
              "    <tr>\n",
              "      <th>6</th>\n",
              "      <td>1</td>\n",
              "      <td>8.602325</td>\n",
              "    </tr>\n",
              "    <tr>\n",
              "      <th>21</th>\n",
              "      <td>1</td>\n",
              "      <td>9.096703</td>\n",
              "    </tr>\n",
              "    <tr>\n",
              "      <th>27</th>\n",
              "      <td>1</td>\n",
              "      <td>9.219544</td>\n",
              "    </tr>\n",
              "    <tr>\n",
              "      <th>41</th>\n",
              "      <td>1</td>\n",
              "      <td>10.198039</td>\n",
              "    </tr>\n",
              "    <tr>\n",
              "      <th>45</th>\n",
              "      <td>1</td>\n",
              "      <td>10.653638</td>\n",
              "    </tr>\n",
              "    <tr>\n",
              "      <th>39</th>\n",
              "      <td>1</td>\n",
              "      <td>11.090537</td>\n",
              "    </tr>\n",
              "    <tr>\n",
              "      <th>4</th>\n",
              "      <td>1</td>\n",
              "      <td>11.135529</td>\n",
              "    </tr>\n",
              "    <tr>\n",
              "      <th>42</th>\n",
              "      <td>1</td>\n",
              "      <td>12.000000</td>\n",
              "    </tr>\n",
              "    <tr>\n",
              "      <th>28</th>\n",
              "      <td>1</td>\n",
              "      <td>14.882876</td>\n",
              "    </tr>\n",
              "    <tr>\n",
              "      <th>19</th>\n",
              "      <td>1</td>\n",
              "      <td>17.606817</td>\n",
              "    </tr>\n",
              "    <tr>\n",
              "      <th>2</th>\n",
              "      <td>1</td>\n",
              "      <td>10000.000000</td>\n",
              "    </tr>\n",
              "    <tr>\n",
              "      <th>12</th>\n",
              "      <td>1</td>\n",
              "      <td>10000.000000</td>\n",
              "    </tr>\n",
              "  </tbody>\n",
              "</table>\n",
              "</div>"
            ],
            "text/plain": [
              "              you      distance\n",
              "other_person                   \n",
              "49              1      1.000000\n",
              "9               1      1.000000\n",
              "13              1      1.414214\n",
              "25              1      1.414214\n",
              "30              1      1.802776\n",
              "35              1      2.236068\n",
              "26              1      2.236068\n",
              "46              1      3.316625\n",
              "8               1      3.741657\n",
              "44              1      3.741657\n",
              "5               1      3.741657\n",
              "37              1      4.000000\n",
              "48              1      4.123106\n",
              "11              1      4.242641\n",
              "24              1      4.415880\n",
              "29              1      4.555217\n",
              "31              1      4.582576\n",
              "17              1      4.609772\n",
              "43              1      4.795832\n",
              "14              1      5.000000\n",
              "32              1      5.196152\n",
              "22              1      5.244044\n",
              "23              1      5.408327\n",
              "38              1      5.567764\n",
              "15              1      5.852350\n",
              "33              1      5.916080\n",
              "47              1      6.244998\n",
              "34              1      6.363961\n",
              "20              1      6.480741\n",
              "36              1      6.519202\n",
              "40              1      6.855655\n",
              "7               1      7.106335\n",
              "16              1      7.228416\n",
              "50              1      7.331439\n",
              "10              1      7.858117\n",
              "3               1      8.200610\n",
              "18              1      8.426150\n",
              "6               1      8.602325\n",
              "21              1      9.096703\n",
              "27              1      9.219544\n",
              "41              1     10.198039\n",
              "45              1     10.653638\n",
              "39              1     11.090537\n",
              "4               1     11.135529\n",
              "42              1     12.000000\n",
              "28              1     14.882876\n",
              "19              1     17.606817\n",
              "2               1  10000.000000\n",
              "12              1  10000.000000"
            ]
          },
          "metadata": {
            "tags": []
          },
          "execution_count": 87
        }
      ]
    },
    {
      "cell_type": "markdown",
      "metadata": {
        "id": "1Z8YoNzC1Fgq"
      },
      "source": [
        "Improve the last function by taking off the 10000 values of users without matching movies.\n"
      ]
    },
    {
      "cell_type": "code",
      "metadata": {
        "id": "Y3HlqpIo1Q0i"
      },
      "source": [
        "def distance_users(userId1, userId2, min = 5):\n",
        "  rates1 = rate_user(userId1)\n",
        "  rates2 = rate_user(userId2)\n",
        "\n",
        "  difference = rates1.join(rates2, lsuffix = '_left', rsuffix = '_rigth').dropna()\n",
        "\n",
        "  if (len(difference) < min):\n",
        "    return None\n",
        "\n",
        "  distance = distance_arrays(difference['rate_left'], difference['rate_rigth'])\n",
        "\n",
        "  return [userId1, userId2, distance]"
      ],
      "execution_count": 94,
      "outputs": []
    },
    {
      "cell_type": "code",
      "metadata": {
        "id": "XpzZUrcN05a5"
      },
      "source": [
        "def distance_all(youId, user_analyse = None):\n",
        "  all_users = rate['userId'].unique()\n",
        "\n",
        "  if user_analyse:\n",
        "    all_users = all_users[:user_analyse]\n",
        "\n",
        "  distances = [distance_users(youId, usuario_id) for usuario_id in all_users]\n",
        "  distances = list(filter(None, distances)) #arranca fora todos esses usuários com None na distancia\n",
        "  distances = pd.DataFrame(distances, columns = ['you', 'other_person', 'distance'])\n",
        "  return distances"
      ],
      "execution_count": 95,
      "outputs": []
    },
    {
      "cell_type": "code",
      "metadata": {
        "colab": {
          "base_uri": "https://localhost:8080/",
          "height": 1000
        },
        "id": "S9IeycO-1gwL",
        "outputId": "2415605a-1764-45bb-e8e2-2ab2ce67e4be"
      },
      "source": [
        "more_close(1, user_analyse = 50)"
      ],
      "execution_count": 96,
      "outputs": [
        {
          "output_type": "execute_result",
          "data": {
            "text/html": [
              "<div>\n",
              "<style scoped>\n",
              "    .dataframe tbody tr th:only-of-type {\n",
              "        vertical-align: middle;\n",
              "    }\n",
              "\n",
              "    .dataframe tbody tr th {\n",
              "        vertical-align: top;\n",
              "    }\n",
              "\n",
              "    .dataframe thead th {\n",
              "        text-align: right;\n",
              "    }\n",
              "</style>\n",
              "<table border=\"1\" class=\"dataframe\">\n",
              "  <thead>\n",
              "    <tr style=\"text-align: right;\">\n",
              "      <th></th>\n",
              "      <th>you</th>\n",
              "      <th>distance</th>\n",
              "    </tr>\n",
              "    <tr>\n",
              "      <th>other_person</th>\n",
              "      <th></th>\n",
              "      <th></th>\n",
              "    </tr>\n",
              "  </thead>\n",
              "  <tbody>\n",
              "    <tr>\n",
              "      <th>49</th>\n",
              "      <td>1</td>\n",
              "      <td>1.000000</td>\n",
              "    </tr>\n",
              "    <tr>\n",
              "      <th>9</th>\n",
              "      <td>1</td>\n",
              "      <td>1.000000</td>\n",
              "    </tr>\n",
              "    <tr>\n",
              "      <th>25</th>\n",
              "      <td>1</td>\n",
              "      <td>1.414214</td>\n",
              "    </tr>\n",
              "    <tr>\n",
              "      <th>13</th>\n",
              "      <td>1</td>\n",
              "      <td>1.414214</td>\n",
              "    </tr>\n",
              "    <tr>\n",
              "      <th>30</th>\n",
              "      <td>1</td>\n",
              "      <td>1.802776</td>\n",
              "    </tr>\n",
              "    <tr>\n",
              "      <th>35</th>\n",
              "      <td>1</td>\n",
              "      <td>2.236068</td>\n",
              "    </tr>\n",
              "    <tr>\n",
              "      <th>26</th>\n",
              "      <td>1</td>\n",
              "      <td>2.236068</td>\n",
              "    </tr>\n",
              "    <tr>\n",
              "      <th>46</th>\n",
              "      <td>1</td>\n",
              "      <td>3.316625</td>\n",
              "    </tr>\n",
              "    <tr>\n",
              "      <th>8</th>\n",
              "      <td>1</td>\n",
              "      <td>3.741657</td>\n",
              "    </tr>\n",
              "    <tr>\n",
              "      <th>5</th>\n",
              "      <td>1</td>\n",
              "      <td>3.741657</td>\n",
              "    </tr>\n",
              "    <tr>\n",
              "      <th>44</th>\n",
              "      <td>1</td>\n",
              "      <td>3.741657</td>\n",
              "    </tr>\n",
              "    <tr>\n",
              "      <th>37</th>\n",
              "      <td>1</td>\n",
              "      <td>4.000000</td>\n",
              "    </tr>\n",
              "    <tr>\n",
              "      <th>48</th>\n",
              "      <td>1</td>\n",
              "      <td>4.123106</td>\n",
              "    </tr>\n",
              "    <tr>\n",
              "      <th>11</th>\n",
              "      <td>1</td>\n",
              "      <td>4.242641</td>\n",
              "    </tr>\n",
              "    <tr>\n",
              "      <th>24</th>\n",
              "      <td>1</td>\n",
              "      <td>4.415880</td>\n",
              "    </tr>\n",
              "    <tr>\n",
              "      <th>29</th>\n",
              "      <td>1</td>\n",
              "      <td>4.555217</td>\n",
              "    </tr>\n",
              "    <tr>\n",
              "      <th>31</th>\n",
              "      <td>1</td>\n",
              "      <td>4.582576</td>\n",
              "    </tr>\n",
              "    <tr>\n",
              "      <th>17</th>\n",
              "      <td>1</td>\n",
              "      <td>4.609772</td>\n",
              "    </tr>\n",
              "    <tr>\n",
              "      <th>43</th>\n",
              "      <td>1</td>\n",
              "      <td>4.795832</td>\n",
              "    </tr>\n",
              "    <tr>\n",
              "      <th>14</th>\n",
              "      <td>1</td>\n",
              "      <td>5.000000</td>\n",
              "    </tr>\n",
              "    <tr>\n",
              "      <th>32</th>\n",
              "      <td>1</td>\n",
              "      <td>5.196152</td>\n",
              "    </tr>\n",
              "    <tr>\n",
              "      <th>22</th>\n",
              "      <td>1</td>\n",
              "      <td>5.244044</td>\n",
              "    </tr>\n",
              "    <tr>\n",
              "      <th>23</th>\n",
              "      <td>1</td>\n",
              "      <td>5.408327</td>\n",
              "    </tr>\n",
              "    <tr>\n",
              "      <th>38</th>\n",
              "      <td>1</td>\n",
              "      <td>5.567764</td>\n",
              "    </tr>\n",
              "    <tr>\n",
              "      <th>15</th>\n",
              "      <td>1</td>\n",
              "      <td>5.852350</td>\n",
              "    </tr>\n",
              "    <tr>\n",
              "      <th>33</th>\n",
              "      <td>1</td>\n",
              "      <td>5.916080</td>\n",
              "    </tr>\n",
              "    <tr>\n",
              "      <th>47</th>\n",
              "      <td>1</td>\n",
              "      <td>6.244998</td>\n",
              "    </tr>\n",
              "    <tr>\n",
              "      <th>34</th>\n",
              "      <td>1</td>\n",
              "      <td>6.363961</td>\n",
              "    </tr>\n",
              "    <tr>\n",
              "      <th>20</th>\n",
              "      <td>1</td>\n",
              "      <td>6.480741</td>\n",
              "    </tr>\n",
              "    <tr>\n",
              "      <th>36</th>\n",
              "      <td>1</td>\n",
              "      <td>6.519202</td>\n",
              "    </tr>\n",
              "    <tr>\n",
              "      <th>40</th>\n",
              "      <td>1</td>\n",
              "      <td>6.855655</td>\n",
              "    </tr>\n",
              "    <tr>\n",
              "      <th>7</th>\n",
              "      <td>1</td>\n",
              "      <td>7.106335</td>\n",
              "    </tr>\n",
              "    <tr>\n",
              "      <th>16</th>\n",
              "      <td>1</td>\n",
              "      <td>7.228416</td>\n",
              "    </tr>\n",
              "    <tr>\n",
              "      <th>50</th>\n",
              "      <td>1</td>\n",
              "      <td>7.331439</td>\n",
              "    </tr>\n",
              "    <tr>\n",
              "      <th>10</th>\n",
              "      <td>1</td>\n",
              "      <td>7.858117</td>\n",
              "    </tr>\n",
              "    <tr>\n",
              "      <th>3</th>\n",
              "      <td>1</td>\n",
              "      <td>8.200610</td>\n",
              "    </tr>\n",
              "    <tr>\n",
              "      <th>18</th>\n",
              "      <td>1</td>\n",
              "      <td>8.426150</td>\n",
              "    </tr>\n",
              "    <tr>\n",
              "      <th>6</th>\n",
              "      <td>1</td>\n",
              "      <td>8.602325</td>\n",
              "    </tr>\n",
              "    <tr>\n",
              "      <th>21</th>\n",
              "      <td>1</td>\n",
              "      <td>9.096703</td>\n",
              "    </tr>\n",
              "    <tr>\n",
              "      <th>27</th>\n",
              "      <td>1</td>\n",
              "      <td>9.219544</td>\n",
              "    </tr>\n",
              "    <tr>\n",
              "      <th>41</th>\n",
              "      <td>1</td>\n",
              "      <td>10.198039</td>\n",
              "    </tr>\n",
              "    <tr>\n",
              "      <th>45</th>\n",
              "      <td>1</td>\n",
              "      <td>10.653638</td>\n",
              "    </tr>\n",
              "    <tr>\n",
              "      <th>39</th>\n",
              "      <td>1</td>\n",
              "      <td>11.090537</td>\n",
              "    </tr>\n",
              "    <tr>\n",
              "      <th>4</th>\n",
              "      <td>1</td>\n",
              "      <td>11.135529</td>\n",
              "    </tr>\n",
              "    <tr>\n",
              "      <th>42</th>\n",
              "      <td>1</td>\n",
              "      <td>12.000000</td>\n",
              "    </tr>\n",
              "    <tr>\n",
              "      <th>28</th>\n",
              "      <td>1</td>\n",
              "      <td>14.882876</td>\n",
              "    </tr>\n",
              "    <tr>\n",
              "      <th>19</th>\n",
              "      <td>1</td>\n",
              "      <td>17.606817</td>\n",
              "    </tr>\n",
              "  </tbody>\n",
              "</table>\n",
              "</div>"
            ],
            "text/plain": [
              "              you   distance\n",
              "other_person                \n",
              "49              1   1.000000\n",
              "9               1   1.000000\n",
              "25              1   1.414214\n",
              "13              1   1.414214\n",
              "30              1   1.802776\n",
              "35              1   2.236068\n",
              "26              1   2.236068\n",
              "46              1   3.316625\n",
              "8               1   3.741657\n",
              "5               1   3.741657\n",
              "44              1   3.741657\n",
              "37              1   4.000000\n",
              "48              1   4.123106\n",
              "11              1   4.242641\n",
              "24              1   4.415880\n",
              "29              1   4.555217\n",
              "31              1   4.582576\n",
              "17              1   4.609772\n",
              "43              1   4.795832\n",
              "14              1   5.000000\n",
              "32              1   5.196152\n",
              "22              1   5.244044\n",
              "23              1   5.408327\n",
              "38              1   5.567764\n",
              "15              1   5.852350\n",
              "33              1   5.916080\n",
              "47              1   6.244998\n",
              "34              1   6.363961\n",
              "20              1   6.480741\n",
              "36              1   6.519202\n",
              "40              1   6.855655\n",
              "7               1   7.106335\n",
              "16              1   7.228416\n",
              "50              1   7.331439\n",
              "10              1   7.858117\n",
              "3               1   8.200610\n",
              "18              1   8.426150\n",
              "6               1   8.602325\n",
              "21              1   9.096703\n",
              "27              1   9.219544\n",
              "41              1  10.198039\n",
              "45              1  10.653638\n",
              "39              1  11.090537\n",
              "4               1  11.135529\n",
              "42              1  12.000000\n",
              "28              1  14.882876\n",
              "19              1  17.606817"
            ]
          },
          "metadata": {
            "tags": []
          },
          "execution_count": 96
        }
      ]
    },
    {
      "cell_type": "markdown",
      "metadata": {
        "id": "z3UY4dQTtSWw"
      },
      "source": [
        "The last result indicates the 50 users with more similar notes.\n"
      ]
    },
    {
      "cell_type": "code",
      "metadata": {
        "colab": {
          "base_uri": "https://localhost:8080/",
          "height": 220
        },
        "id": "gM0D938p1rkY",
        "outputId": "9b7177f1-dcdd-4f38-ae30-0f537e90608d"
      },
      "source": [
        "# now if you are the user number 1 and wants to see the rates of the user more close to you:\n",
        "you = 1\n",
        "similar = more_close(1, user_analyse = 50)\n",
        "similar = similar.iloc[0].name # encontra o usuário mais similar\n",
        "\n",
        "rates_similar = rate_user(similar)\n",
        "\n",
        "rates_similar.head()"
      ],
      "execution_count": 99,
      "outputs": [
        {
          "output_type": "execute_result",
          "data": {
            "text/html": [
              "<div>\n",
              "<style scoped>\n",
              "    .dataframe tbody tr th:only-of-type {\n",
              "        vertical-align: middle;\n",
              "    }\n",
              "\n",
              "    .dataframe tbody tr th {\n",
              "        vertical-align: top;\n",
              "    }\n",
              "\n",
              "    .dataframe thead th {\n",
              "        text-align: right;\n",
              "    }\n",
              "</style>\n",
              "<table border=\"1\" class=\"dataframe\">\n",
              "  <thead>\n",
              "    <tr style=\"text-align: right;\">\n",
              "      <th></th>\n",
              "      <th>rate</th>\n",
              "    </tr>\n",
              "    <tr>\n",
              "      <th>movieId</th>\n",
              "      <th></th>\n",
              "    </tr>\n",
              "  </thead>\n",
              "  <tbody>\n",
              "    <tr>\n",
              "      <th>110</th>\n",
              "      <td>4.0</td>\n",
              "    </tr>\n",
              "    <tr>\n",
              "      <th>318</th>\n",
              "      <td>4.0</td>\n",
              "    </tr>\n",
              "    <tr>\n",
              "      <th>356</th>\n",
              "      <td>4.0</td>\n",
              "    </tr>\n",
              "    <tr>\n",
              "      <th>527</th>\n",
              "      <td>4.5</td>\n",
              "    </tr>\n",
              "    <tr>\n",
              "      <th>1097</th>\n",
              "      <td>4.5</td>\n",
              "    </tr>\n",
              "  </tbody>\n",
              "</table>\n",
              "</div>"
            ],
            "text/plain": [
              "         rate\n",
              "movieId      \n",
              "110       4.0\n",
              "318       4.0\n",
              "356       4.0\n",
              "527       4.5\n",
              "1097      4.5"
            ]
          },
          "metadata": {
            "tags": []
          },
          "execution_count": 99
        }
      ]
    },
    {
      "cell_type": "markdown",
      "metadata": {
        "id": "IhxH91yPuqJk"
      },
      "source": [
        "Now create a function to recommend movies to one user based on the rates the more close user has given to other movies."
      ]
    },
    {
      "cell_type": "code",
      "metadata": {
        "id": "IufBFCq33qy8"
      },
      "source": [
        "def recommend_for(user, user_analyse = None):\n",
        "  rate_you = rate_user(user)\n",
        "  movies_user_saw = rate_you.index\n",
        "\n",
        "  similar = more_close(user, user_analyse)\n",
        "  similar = similar.iloc[0].name\n",
        "  rate_similar = rate_user(similar)\n",
        "  rate_similar = rate_similar.drop(movies_user_saw, errors = 'ignore')\n",
        "  recommendations = rate_similar.sort_values('rate', ascending=False)\n",
        "  return recommendations.join(movies)"
      ],
      "execution_count": 111,
      "outputs": []
    },
    {
      "cell_type": "code",
      "metadata": {
        "colab": {
          "base_uri": "https://localhost:8080/",
          "height": 220
        },
        "id": "Ek88q26z3rIm",
        "outputId": "e6068daa-d141-4032-ab9f-a6e22cb0375c"
      },
      "source": [
        "recommend_for(user=1, user_analyse=50).head()"
      ],
      "execution_count": 112,
      "outputs": [
        {
          "output_type": "execute_result",
          "data": {
            "text/html": [
              "<div>\n",
              "<style scoped>\n",
              "    .dataframe tbody tr th:only-of-type {\n",
              "        vertical-align: middle;\n",
              "    }\n",
              "\n",
              "    .dataframe tbody tr th {\n",
              "        vertical-align: top;\n",
              "    }\n",
              "\n",
              "    .dataframe thead th {\n",
              "        text-align: right;\n",
              "    }\n",
              "</style>\n",
              "<table border=\"1\" class=\"dataframe\">\n",
              "  <thead>\n",
              "    <tr style=\"text-align: right;\">\n",
              "      <th></th>\n",
              "      <th>rate</th>\n",
              "      <th>title</th>\n",
              "      <th>gender</th>\n",
              "      <th>total_votes</th>\n",
              "      <th>avg_rates</th>\n",
              "    </tr>\n",
              "    <tr>\n",
              "      <th>movieId</th>\n",
              "      <th></th>\n",
              "      <th></th>\n",
              "      <th></th>\n",
              "      <th></th>\n",
              "      <th></th>\n",
              "    </tr>\n",
              "  </thead>\n",
              "  <tbody>\n",
              "    <tr>\n",
              "      <th>1200</th>\n",
              "      <td>4.5</td>\n",
              "      <td>Aliens (1986)</td>\n",
              "      <td>Action|Adventure|Horror|Sci-Fi</td>\n",
              "      <td>126.0</td>\n",
              "      <td>3.964286</td>\n",
              "    </tr>\n",
              "    <tr>\n",
              "      <th>4022</th>\n",
              "      <td>4.5</td>\n",
              "      <td>Cast Away (2000)</td>\n",
              "      <td>Drama</td>\n",
              "      <td>100.0</td>\n",
              "      <td>3.700000</td>\n",
              "    </tr>\n",
              "    <tr>\n",
              "      <th>47099</th>\n",
              "      <td>4.5</td>\n",
              "      <td>Pursuit of Happyness, The (2006)</td>\n",
              "      <td>Drama</td>\n",
              "      <td>46.0</td>\n",
              "      <td>3.793478</td>\n",
              "    </tr>\n",
              "    <tr>\n",
              "      <th>79132</th>\n",
              "      <td>4.5</td>\n",
              "      <td>Inception (2010)</td>\n",
              "      <td>Action|Crime|Drama|Mystery|Sci-Fi|Thriller|IMAX</td>\n",
              "      <td>143.0</td>\n",
              "      <td>4.066434</td>\n",
              "    </tr>\n",
              "    <tr>\n",
              "      <th>109487</th>\n",
              "      <td>4.5</td>\n",
              "      <td>Interstellar (2014)</td>\n",
              "      <td>Sci-Fi|IMAX</td>\n",
              "      <td>73.0</td>\n",
              "      <td>3.993151</td>\n",
              "    </tr>\n",
              "  </tbody>\n",
              "</table>\n",
              "</div>"
            ],
            "text/plain": [
              "         rate                             title  ... total_votes  avg_rates\n",
              "movieId                                          ...                       \n",
              "1200      4.5                     Aliens (1986)  ...       126.0   3.964286\n",
              "4022      4.5                  Cast Away (2000)  ...       100.0   3.700000\n",
              "47099     4.5  Pursuit of Happyness, The (2006)  ...        46.0   3.793478\n",
              "79132     4.5                  Inception (2010)  ...       143.0   4.066434\n",
              "109487    4.5               Interstellar (2014)  ...        73.0   3.993151\n",
              "\n",
              "[5 rows x 5 columns]"
            ]
          },
          "metadata": {
            "tags": []
          },
          "execution_count": 112
        }
      ]
    },
    {
      "cell_type": "markdown",
      "metadata": {
        "id": "TLZ6JCfRDAYm"
      },
      "source": [
        "# Chapter 09 - Improve the last function considering more than one user to compare the distances\n",
        "\n",
        "First change the function to show the more closed users."
      ]
    },
    {
      "cell_type": "code",
      "metadata": {
        "id": "cw8QEUOsEqDm"
      },
      "source": [
        "def more_close(youId, user_analyse = None, n_more_close=10):\n",
        "  distance = distance_all(youId, user_analyse)\n",
        "  distance = distance.sort_values('distance')\n",
        "  distance = distance.set_index('other_person').drop(youId)\n",
        "  return distance.head(n_more_close)"
      ],
      "execution_count": 115,
      "outputs": []
    },
    {
      "cell_type": "code",
      "metadata": {
        "colab": {
          "base_uri": "https://localhost:8080/",
          "height": 363
        },
        "id": "i2kxyjiBEx4p",
        "outputId": "9979c40f-1432-4066-efa2-7ddf3d2af64e"
      },
      "source": [
        "more_close(youId = 1, user_analyse = 50, n_more_close = 10)"
      ],
      "execution_count": 117,
      "outputs": [
        {
          "output_type": "execute_result",
          "data": {
            "text/html": [
              "<div>\n",
              "<style scoped>\n",
              "    .dataframe tbody tr th:only-of-type {\n",
              "        vertical-align: middle;\n",
              "    }\n",
              "\n",
              "    .dataframe tbody tr th {\n",
              "        vertical-align: top;\n",
              "    }\n",
              "\n",
              "    .dataframe thead th {\n",
              "        text-align: right;\n",
              "    }\n",
              "</style>\n",
              "<table border=\"1\" class=\"dataframe\">\n",
              "  <thead>\n",
              "    <tr style=\"text-align: right;\">\n",
              "      <th></th>\n",
              "      <th>you</th>\n",
              "      <th>distance</th>\n",
              "    </tr>\n",
              "    <tr>\n",
              "      <th>other_person</th>\n",
              "      <th></th>\n",
              "      <th></th>\n",
              "    </tr>\n",
              "  </thead>\n",
              "  <tbody>\n",
              "    <tr>\n",
              "      <th>49</th>\n",
              "      <td>1</td>\n",
              "      <td>1.000000</td>\n",
              "    </tr>\n",
              "    <tr>\n",
              "      <th>9</th>\n",
              "      <td>1</td>\n",
              "      <td>1.000000</td>\n",
              "    </tr>\n",
              "    <tr>\n",
              "      <th>25</th>\n",
              "      <td>1</td>\n",
              "      <td>1.414214</td>\n",
              "    </tr>\n",
              "    <tr>\n",
              "      <th>13</th>\n",
              "      <td>1</td>\n",
              "      <td>1.414214</td>\n",
              "    </tr>\n",
              "    <tr>\n",
              "      <th>30</th>\n",
              "      <td>1</td>\n",
              "      <td>1.802776</td>\n",
              "    </tr>\n",
              "    <tr>\n",
              "      <th>35</th>\n",
              "      <td>1</td>\n",
              "      <td>2.236068</td>\n",
              "    </tr>\n",
              "    <tr>\n",
              "      <th>26</th>\n",
              "      <td>1</td>\n",
              "      <td>2.236068</td>\n",
              "    </tr>\n",
              "    <tr>\n",
              "      <th>46</th>\n",
              "      <td>1</td>\n",
              "      <td>3.316625</td>\n",
              "    </tr>\n",
              "    <tr>\n",
              "      <th>8</th>\n",
              "      <td>1</td>\n",
              "      <td>3.741657</td>\n",
              "    </tr>\n",
              "    <tr>\n",
              "      <th>5</th>\n",
              "      <td>1</td>\n",
              "      <td>3.741657</td>\n",
              "    </tr>\n",
              "  </tbody>\n",
              "</table>\n",
              "</div>"
            ],
            "text/plain": [
              "              you  distance\n",
              "other_person               \n",
              "49              1  1.000000\n",
              "9               1  1.000000\n",
              "25              1  1.414214\n",
              "13              1  1.414214\n",
              "30              1  1.802776\n",
              "35              1  2.236068\n",
              "26              1  2.236068\n",
              "46              1  3.316625\n",
              "8               1  3.741657\n",
              "5               1  3.741657"
            ]
          },
          "metadata": {
            "tags": []
          },
          "execution_count": 117
        }
      ]
    },
    {
      "cell_type": "markdown",
      "metadata": {
        "id": "GD2eLDkx2i9X"
      },
      "source": [
        "Now change the function recommend_for to count with others users."
      ]
    },
    {
      "cell_type": "code",
      "metadata": {
        "id": "Q75-vO8CG8z-"
      },
      "source": [
        "def recommend_for(user, user_analyse = None, n_more_close=10):\n",
        "  rate_you = rate_user(user)\n",
        "  movies_user_saw = rate_you.index\n",
        "  \n",
        "  similar = more_close(user, user_analyse=user_analyse, n_more_close=n_more_close)\n",
        "  similar_users = similar.index\n",
        "\n",
        "  rates_similar = rate.set_index('userId').loc[similar_users]\n",
        "  recommendations = rates_similar.groupby('movieId').mean()[['rate']] # use the mean of the distances do recommend\n",
        "  recommendations = recommendations.sort_values('rate', ascending=False)\n",
        "  \n",
        "  return recommendations.join(movies).head()"
      ],
      "execution_count": 120,
      "outputs": []
    },
    {
      "cell_type": "code",
      "metadata": {
        "colab": {
          "base_uri": "https://localhost:8080/",
          "height": 220
        },
        "id": "Li_NZcIAHUPh",
        "outputId": "a821603c-52a6-4b43-93ea-363252a34159"
      },
      "source": [
        "recommend_for(1, user_analyse=50, n_more_close=50).head()"
      ],
      "execution_count": 122,
      "outputs": [
        {
          "output_type": "execute_result",
          "data": {
            "text/html": [
              "<div>\n",
              "<style scoped>\n",
              "    .dataframe tbody tr th:only-of-type {\n",
              "        vertical-align: middle;\n",
              "    }\n",
              "\n",
              "    .dataframe tbody tr th {\n",
              "        vertical-align: top;\n",
              "    }\n",
              "\n",
              "    .dataframe thead th {\n",
              "        text-align: right;\n",
              "    }\n",
              "</style>\n",
              "<table border=\"1\" class=\"dataframe\">\n",
              "  <thead>\n",
              "    <tr style=\"text-align: right;\">\n",
              "      <th></th>\n",
              "      <th>rate</th>\n",
              "      <th>title</th>\n",
              "      <th>gender</th>\n",
              "      <th>total_votes</th>\n",
              "      <th>avg_rates</th>\n",
              "    </tr>\n",
              "    <tr>\n",
              "      <th>movieId</th>\n",
              "      <th></th>\n",
              "      <th></th>\n",
              "      <th></th>\n",
              "      <th></th>\n",
              "      <th></th>\n",
              "    </tr>\n",
              "  </thead>\n",
              "  <tbody>\n",
              "    <tr>\n",
              "      <th>3502</th>\n",
              "      <td>5.0</td>\n",
              "      <td>My Life (1993)</td>\n",
              "      <td>Drama</td>\n",
              "      <td>3.0</td>\n",
              "      <td>3.500000</td>\n",
              "    </tr>\n",
              "    <tr>\n",
              "      <th>4102</th>\n",
              "      <td>5.0</td>\n",
              "      <td>Eddie Murphy Raw (1987)</td>\n",
              "      <td>Comedy|Documentary</td>\n",
              "      <td>6.0</td>\n",
              "      <td>3.500000</td>\n",
              "    </tr>\n",
              "    <tr>\n",
              "      <th>6618</th>\n",
              "      <td>5.0</td>\n",
              "      <td>Shaolin Soccer (Siu lam juk kau) (2001)</td>\n",
              "      <td>Action|Comedy</td>\n",
              "      <td>17.0</td>\n",
              "      <td>3.823529</td>\n",
              "    </tr>\n",
              "    <tr>\n",
              "      <th>538</th>\n",
              "      <td>5.0</td>\n",
              "      <td>Six Degrees of Separation (1993)</td>\n",
              "      <td>Drama</td>\n",
              "      <td>12.0</td>\n",
              "      <td>3.583333</td>\n",
              "    </tr>\n",
              "    <tr>\n",
              "      <th>6345</th>\n",
              "      <td>5.0</td>\n",
              "      <td>Chorus Line, A (1985)</td>\n",
              "      <td>Comedy|Drama|Musical</td>\n",
              "      <td>3.0</td>\n",
              "      <td>4.666667</td>\n",
              "    </tr>\n",
              "  </tbody>\n",
              "</table>\n",
              "</div>"
            ],
            "text/plain": [
              "         rate                                    title  ... total_votes  avg_rates\n",
              "movieId                                                 ...                       \n",
              "3502      5.0                           My Life (1993)  ...         3.0   3.500000\n",
              "4102      5.0                  Eddie Murphy Raw (1987)  ...         6.0   3.500000\n",
              "6618      5.0  Shaolin Soccer (Siu lam juk kau) (2001)  ...        17.0   3.823529\n",
              "538       5.0         Six Degrees of Separation (1993)  ...        12.0   3.583333\n",
              "6345      5.0                    Chorus Line, A (1985)  ...         3.0   4.666667\n",
              "\n",
              "[5 rows x 5 columns]"
            ]
          },
          "metadata": {
            "tags": []
          },
          "execution_count": 122
        }
      ]
    },
    {
      "cell_type": "code",
      "metadata": {
        "colab": {
          "base_uri": "https://localhost:8080/",
          "height": 220
        },
        "id": "rLWXHSrpIDJL",
        "outputId": "4dcd2b25-ea7a-4814-f827-ec2dc9347e46"
      },
      "source": [
        "recommend_for(1, user_analyse=50, n_more_close=10).head()"
      ],
      "execution_count": 123,
      "outputs": [
        {
          "output_type": "execute_result",
          "data": {
            "text/html": [
              "<div>\n",
              "<style scoped>\n",
              "    .dataframe tbody tr th:only-of-type {\n",
              "        vertical-align: middle;\n",
              "    }\n",
              "\n",
              "    .dataframe tbody tr th {\n",
              "        vertical-align: top;\n",
              "    }\n",
              "\n",
              "    .dataframe thead th {\n",
              "        text-align: right;\n",
              "    }\n",
              "</style>\n",
              "<table border=\"1\" class=\"dataframe\">\n",
              "  <thead>\n",
              "    <tr style=\"text-align: right;\">\n",
              "      <th></th>\n",
              "      <th>rate</th>\n",
              "      <th>title</th>\n",
              "      <th>gender</th>\n",
              "      <th>total_votes</th>\n",
              "      <th>avg_rates</th>\n",
              "    </tr>\n",
              "    <tr>\n",
              "      <th>movieId</th>\n",
              "      <th></th>\n",
              "      <th></th>\n",
              "      <th></th>\n",
              "      <th></th>\n",
              "      <th></th>\n",
              "    </tr>\n",
              "  </thead>\n",
              "  <tbody>\n",
              "    <tr>\n",
              "      <th>187593</th>\n",
              "      <td>5.0</td>\n",
              "      <td>Deadpool 2 (2018)</td>\n",
              "      <td>Action|Comedy|Sci-Fi</td>\n",
              "      <td>12.0</td>\n",
              "      <td>3.875000</td>\n",
              "    </tr>\n",
              "    <tr>\n",
              "      <th>68157</th>\n",
              "      <td>5.0</td>\n",
              "      <td>Inglourious Basterds (2009)</td>\n",
              "      <td>Action|Drama|War</td>\n",
              "      <td>88.0</td>\n",
              "      <td>4.136364</td>\n",
              "    </tr>\n",
              "    <tr>\n",
              "      <th>475</th>\n",
              "      <td>5.0</td>\n",
              "      <td>In the Name of the Father (1993)</td>\n",
              "      <td>Drama</td>\n",
              "      <td>25.0</td>\n",
              "      <td>4.300000</td>\n",
              "    </tr>\n",
              "    <tr>\n",
              "      <th>33794</th>\n",
              "      <td>5.0</td>\n",
              "      <td>Batman Begins (2005)</td>\n",
              "      <td>Action|Crime|IMAX</td>\n",
              "      <td>116.0</td>\n",
              "      <td>3.862069</td>\n",
              "    </tr>\n",
              "    <tr>\n",
              "      <th>7153</th>\n",
              "      <td>5.0</td>\n",
              "      <td>Lord of the Rings: The Return of the King, The...</td>\n",
              "      <td>Action|Adventure|Drama|Fantasy</td>\n",
              "      <td>185.0</td>\n",
              "      <td>4.118919</td>\n",
              "    </tr>\n",
              "  </tbody>\n",
              "</table>\n",
              "</div>"
            ],
            "text/plain": [
              "         rate  ... avg_rates\n",
              "movieId        ...          \n",
              "187593    5.0  ...  3.875000\n",
              "68157     5.0  ...  4.136364\n",
              "475       5.0  ...  4.300000\n",
              "33794     5.0  ...  3.862069\n",
              "7153      5.0  ...  4.118919\n",
              "\n",
              "[5 rows x 5 columns]"
            ]
          },
          "metadata": {
            "tags": []
          },
          "execution_count": 123
        }
      ]
    },
    {
      "cell_type": "markdown",
      "metadata": {
        "id": "3MXD7n3C3_HQ"
      },
      "source": [
        "The function more_close and recommend_for are the basis for the knn algorithm (k-nearest neighbors). The first function shows the closest neighbors (users with the most similar notes) and the second function indicates the films based on these users' notes.\n",
        "\n",
        "So, now I change the name of the functions to be in accordance with the algorithm.\n"
      ]
    },
    {
      "cell_type": "code",
      "metadata": {
        "id": "QKELg4ToIIEI"
      },
      "source": [
        "def knn(userId, user_analyse = None, k_more_close=10):\n",
        "  distance = distance_all(userId, user_analyse)\n",
        "  distance = distance.sort_values('distance')\n",
        "  distance = distance.set_index('other_person').drop(userId)\n",
        "  return distance.head(k_more_close)"
      ],
      "execution_count": 135,
      "outputs": []
    },
    {
      "cell_type": "code",
      "metadata": {
        "id": "FVnxU2HRIqHP"
      },
      "source": [
        "def recommend_for(userId, user_analyse = None, k_more_close=10):\n",
        "  rates_you = rate_user(userId)\n",
        "  movies_you_saw = rates_you.index\n",
        "  \n",
        "  similar = knn(userId, k_more_close = k_more_close, user_analyse = user_analyse)\n",
        "  similar_users = similar.index\n",
        "\n",
        "  rates_similar = rate.set_index('userId').loc[similar_users]\n",
        "  recommendations = rates_similar.groupby('movieId').mean()[['rate']]\n",
        "  recommendations = recommendations.sort_values('rate', ascending=False)\n",
        "  return recommendations.join(movies).head()"
      ],
      "execution_count": 136,
      "outputs": []
    },
    {
      "cell_type": "code",
      "metadata": {
        "colab": {
          "base_uri": "https://localhost:8080/",
          "height": 220
        },
        "id": "fJ5pkWys5sBY",
        "outputId": "6b705750-2251-4b7a-9d6c-9dedad43d013"
      },
      "source": [
        "# just to check de results\n",
        "recommend_for(1, user_analyse=50, k_more_close=50).head()"
      ],
      "execution_count": 128,
      "outputs": [
        {
          "output_type": "execute_result",
          "data": {
            "text/html": [
              "<div>\n",
              "<style scoped>\n",
              "    .dataframe tbody tr th:only-of-type {\n",
              "        vertical-align: middle;\n",
              "    }\n",
              "\n",
              "    .dataframe tbody tr th {\n",
              "        vertical-align: top;\n",
              "    }\n",
              "\n",
              "    .dataframe thead th {\n",
              "        text-align: right;\n",
              "    }\n",
              "</style>\n",
              "<table border=\"1\" class=\"dataframe\">\n",
              "  <thead>\n",
              "    <tr style=\"text-align: right;\">\n",
              "      <th></th>\n",
              "      <th>rate</th>\n",
              "      <th>title</th>\n",
              "      <th>gender</th>\n",
              "      <th>total_votes</th>\n",
              "      <th>avg_rates</th>\n",
              "    </tr>\n",
              "    <tr>\n",
              "      <th>movieId</th>\n",
              "      <th></th>\n",
              "      <th></th>\n",
              "      <th></th>\n",
              "      <th></th>\n",
              "      <th></th>\n",
              "    </tr>\n",
              "  </thead>\n",
              "  <tbody>\n",
              "    <tr>\n",
              "      <th>3502</th>\n",
              "      <td>5.0</td>\n",
              "      <td>My Life (1993)</td>\n",
              "      <td>Drama</td>\n",
              "      <td>3.0</td>\n",
              "      <td>3.500000</td>\n",
              "    </tr>\n",
              "    <tr>\n",
              "      <th>4102</th>\n",
              "      <td>5.0</td>\n",
              "      <td>Eddie Murphy Raw (1987)</td>\n",
              "      <td>Comedy|Documentary</td>\n",
              "      <td>6.0</td>\n",
              "      <td>3.500000</td>\n",
              "    </tr>\n",
              "    <tr>\n",
              "      <th>6618</th>\n",
              "      <td>5.0</td>\n",
              "      <td>Shaolin Soccer (Siu lam juk kau) (2001)</td>\n",
              "      <td>Action|Comedy</td>\n",
              "      <td>17.0</td>\n",
              "      <td>3.823529</td>\n",
              "    </tr>\n",
              "    <tr>\n",
              "      <th>538</th>\n",
              "      <td>5.0</td>\n",
              "      <td>Six Degrees of Separation (1993)</td>\n",
              "      <td>Drama</td>\n",
              "      <td>12.0</td>\n",
              "      <td>3.583333</td>\n",
              "    </tr>\n",
              "    <tr>\n",
              "      <th>6345</th>\n",
              "      <td>5.0</td>\n",
              "      <td>Chorus Line, A (1985)</td>\n",
              "      <td>Comedy|Drama|Musical</td>\n",
              "      <td>3.0</td>\n",
              "      <td>4.666667</td>\n",
              "    </tr>\n",
              "  </tbody>\n",
              "</table>\n",
              "</div>"
            ],
            "text/plain": [
              "         rate                                    title  ... total_votes  avg_rates\n",
              "movieId                                                 ...                       \n",
              "3502      5.0                           My Life (1993)  ...         3.0   3.500000\n",
              "4102      5.0                  Eddie Murphy Raw (1987)  ...         6.0   3.500000\n",
              "6618      5.0  Shaolin Soccer (Siu lam juk kau) (2001)  ...        17.0   3.823529\n",
              "538       5.0         Six Degrees of Separation (1993)  ...        12.0   3.583333\n",
              "6345      5.0                    Chorus Line, A (1985)  ...         3.0   4.666667\n",
              "\n",
              "[5 rows x 5 columns]"
            ]
          },
          "metadata": {
            "tags": []
          },
          "execution_count": 128
        }
      ]
    },
    {
      "cell_type": "markdown",
      "metadata": {
        "id": "YRig9QmUMQLZ"
      },
      "source": [
        "# Chapter 10 - Use the functions created to give recommendations to a new user\n",
        "\n",
        "Now I have the functions to give recommentadions given a user and the raes of the movie, I can create a fictional user and test the functions.\n",
        "\n"
      ]
    },
    {
      "cell_type": "markdown",
      "metadata": {
        "id": "qJy-cyYnMrla"
      },
      "source": [
        "First create a array with movieId and the rate."
      ]
    },
    {
      "cell_type": "code",
      "metadata": {
        "colab": {
          "base_uri": "https://localhost:8080/"
        },
        "id": "GKaSd8PEMaO9",
        "outputId": "adc3b50b-1c67-43e4-8d32-50d7ebc03c98"
      },
      "source": [
        "[\n",
        "[600, 2],\n",
        "[1246, 5],\n",
        "[2529, 2],\n",
        "[2329, 5],\n",
        "[2324, 5],\n",
        "[1, 2],\n",
        "[7, 0.5],\n",
        "[2, 2],\n",
        "[1196, 1],\n",
        "[260, 1]\n",
        "]"
      ],
      "execution_count": 129,
      "outputs": [
        {
          "output_type": "execute_result",
          "data": {
            "text/plain": [
              "[[600, 2],\n",
              " [1246, 5],\n",
              " [2529, 2],\n",
              " [2329, 5],\n",
              " [2324, 5],\n",
              " [1, 2],\n",
              " [7, 0.5],\n",
              " [2, 2],\n",
              " [1196, 1],\n",
              " [260, 1]]"
            ]
          },
          "metadata": {
            "tags": []
          },
          "execution_count": 129
        }
      ]
    },
    {
      "cell_type": "code",
      "metadata": {
        "colab": {
          "base_uri": "https://localhost:8080/",
          "height": 363
        },
        "id": "q4s5j6GAMppr",
        "outputId": "48a37ddb-3a26-4617-9cbf-c11ade82f2cd"
      },
      "source": [
        "# jsut to see the movies of the fictional user\n",
        "movies.loc[[600, 1246, 2529, 2329, 2324, 1, 7, 2, 1196, 260]]"
      ],
      "execution_count": 130,
      "outputs": [
        {
          "output_type": "execute_result",
          "data": {
            "text/html": [
              "<div>\n",
              "<style scoped>\n",
              "    .dataframe tbody tr th:only-of-type {\n",
              "        vertical-align: middle;\n",
              "    }\n",
              "\n",
              "    .dataframe tbody tr th {\n",
              "        vertical-align: top;\n",
              "    }\n",
              "\n",
              "    .dataframe thead th {\n",
              "        text-align: right;\n",
              "    }\n",
              "</style>\n",
              "<table border=\"1\" class=\"dataframe\">\n",
              "  <thead>\n",
              "    <tr style=\"text-align: right;\">\n",
              "      <th></th>\n",
              "      <th>title</th>\n",
              "      <th>gender</th>\n",
              "      <th>total_votes</th>\n",
              "      <th>avg_rates</th>\n",
              "    </tr>\n",
              "    <tr>\n",
              "      <th>movieId</th>\n",
              "      <th></th>\n",
              "      <th></th>\n",
              "      <th></th>\n",
              "      <th></th>\n",
              "    </tr>\n",
              "  </thead>\n",
              "  <tbody>\n",
              "    <tr>\n",
              "      <th>600</th>\n",
              "      <td>Love and a .45 (1994)</td>\n",
              "      <td>Action|Comedy|Crime</td>\n",
              "      <td>1.0</td>\n",
              "      <td>4.000000</td>\n",
              "    </tr>\n",
              "    <tr>\n",
              "      <th>1246</th>\n",
              "      <td>Dead Poets Society (1989)</td>\n",
              "      <td>Drama</td>\n",
              "      <td>86.0</td>\n",
              "      <td>3.959302</td>\n",
              "    </tr>\n",
              "    <tr>\n",
              "      <th>2529</th>\n",
              "      <td>Planet of the Apes (1968)</td>\n",
              "      <td>Action|Drama|Sci-Fi</td>\n",
              "      <td>56.0</td>\n",
              "      <td>3.803571</td>\n",
              "    </tr>\n",
              "    <tr>\n",
              "      <th>2329</th>\n",
              "      <td>American History X (1998)</td>\n",
              "      <td>Crime|Drama</td>\n",
              "      <td>129.0</td>\n",
              "      <td>4.217054</td>\n",
              "    </tr>\n",
              "    <tr>\n",
              "      <th>2324</th>\n",
              "      <td>Life Is Beautiful (La Vita è bella) (1997)</td>\n",
              "      <td>Comedy|Drama|Romance|War</td>\n",
              "      <td>88.0</td>\n",
              "      <td>4.147727</td>\n",
              "    </tr>\n",
              "    <tr>\n",
              "      <th>1</th>\n",
              "      <td>Toy Story (1995)</td>\n",
              "      <td>Adventure|Animation|Children|Comedy|Fantasy</td>\n",
              "      <td>215.0</td>\n",
              "      <td>3.920930</td>\n",
              "    </tr>\n",
              "    <tr>\n",
              "      <th>7</th>\n",
              "      <td>Sabrina (1995)</td>\n",
              "      <td>Comedy|Romance</td>\n",
              "      <td>54.0</td>\n",
              "      <td>3.185185</td>\n",
              "    </tr>\n",
              "    <tr>\n",
              "      <th>2</th>\n",
              "      <td>Jumanji (1995)</td>\n",
              "      <td>Adventure|Children|Fantasy</td>\n",
              "      <td>110.0</td>\n",
              "      <td>3.431818</td>\n",
              "    </tr>\n",
              "    <tr>\n",
              "      <th>1196</th>\n",
              "      <td>Star Wars: Episode V - The Empire Strikes Back...</td>\n",
              "      <td>Action|Adventure|Sci-Fi</td>\n",
              "      <td>211.0</td>\n",
              "      <td>4.215640</td>\n",
              "    </tr>\n",
              "    <tr>\n",
              "      <th>260</th>\n",
              "      <td>Star Wars: Episode IV - A New Hope (1977)</td>\n",
              "      <td>Action|Adventure|Sci-Fi</td>\n",
              "      <td>251.0</td>\n",
              "      <td>4.231076</td>\n",
              "    </tr>\n",
              "  </tbody>\n",
              "</table>\n",
              "</div>"
            ],
            "text/plain": [
              "                                                     title  ... avg_rates\n",
              "movieId                                                     ...          \n",
              "600                                  Love and a .45 (1994)  ...  4.000000\n",
              "1246                             Dead Poets Society (1989)  ...  3.959302\n",
              "2529                             Planet of the Apes (1968)  ...  3.803571\n",
              "2329                             American History X (1998)  ...  4.217054\n",
              "2324            Life Is Beautiful (La Vita è bella) (1997)  ...  4.147727\n",
              "1                                         Toy Story (1995)  ...  3.920930\n",
              "7                                           Sabrina (1995)  ...  3.185185\n",
              "2                                           Jumanji (1995)  ...  3.431818\n",
              "1196     Star Wars: Episode V - The Empire Strikes Back...  ...  4.215640\n",
              "260              Star Wars: Episode IV - A New Hope (1977)  ...  4.231076\n",
              "\n",
              "[10 rows x 4 columns]"
            ]
          },
          "metadata": {
            "tags": []
          },
          "execution_count": 130
        }
      ]
    },
    {
      "cell_type": "markdown",
      "metadata": {
        "id": "3LkuztVf6c9m"
      },
      "source": [
        "Create a function to add the new user to the dataset."
      ]
    },
    {
      "cell_type": "code",
      "metadata": {
        "id": "Q5zBwW4oOHVy"
      },
      "source": [
        "def new_user(data):\n",
        "  new_user = rate['userId'].max()+1\n",
        "\n",
        "  new_user_rates = pd.DataFrame(data, columns = ['movieId', 'rate'])\n",
        "  new_user_rates['userId'] = new_user\n",
        "  return pd.concat([rate, new_user_rates])\n"
      ],
      "execution_count": 131,
      "outputs": []
    },
    {
      "cell_type": "code",
      "metadata": {
        "colab": {
          "base_uri": "https://localhost:8080/",
          "height": 191
        },
        "id": "2Kn7mJShMv5o",
        "outputId": "613d2c90-db88-4edb-9441-34550d08fd3b"
      },
      "source": [
        "# add the new user to the dataframe of rates\n",
        "# note the old dataframe will be changed\n",
        "rate = new_user([[600, 2], [1246, 5], [2529, 2], [2329, 5], [2324, 5], [1, 2], [7, 0.5], [2, 2], [1196, 1], [260, 1]])\n",
        "rate.tail()"
      ],
      "execution_count": 132,
      "outputs": [
        {
          "output_type": "execute_result",
          "data": {
            "text/html": [
              "<div>\n",
              "<style scoped>\n",
              "    .dataframe tbody tr th:only-of-type {\n",
              "        vertical-align: middle;\n",
              "    }\n",
              "\n",
              "    .dataframe tbody tr th {\n",
              "        vertical-align: top;\n",
              "    }\n",
              "\n",
              "    .dataframe thead th {\n",
              "        text-align: right;\n",
              "    }\n",
              "</style>\n",
              "<table border=\"1\" class=\"dataframe\">\n",
              "  <thead>\n",
              "    <tr style=\"text-align: right;\">\n",
              "      <th></th>\n",
              "      <th>userId</th>\n",
              "      <th>movieId</th>\n",
              "      <th>rate</th>\n",
              "      <th>moment</th>\n",
              "    </tr>\n",
              "  </thead>\n",
              "  <tbody>\n",
              "    <tr>\n",
              "      <th>5</th>\n",
              "      <td>611</td>\n",
              "      <td>1</td>\n",
              "      <td>2.0</td>\n",
              "      <td>NaN</td>\n",
              "    </tr>\n",
              "    <tr>\n",
              "      <th>6</th>\n",
              "      <td>611</td>\n",
              "      <td>7</td>\n",
              "      <td>0.5</td>\n",
              "      <td>NaN</td>\n",
              "    </tr>\n",
              "    <tr>\n",
              "      <th>7</th>\n",
              "      <td>611</td>\n",
              "      <td>2</td>\n",
              "      <td>2.0</td>\n",
              "      <td>NaN</td>\n",
              "    </tr>\n",
              "    <tr>\n",
              "      <th>8</th>\n",
              "      <td>611</td>\n",
              "      <td>1196</td>\n",
              "      <td>1.0</td>\n",
              "      <td>NaN</td>\n",
              "    </tr>\n",
              "    <tr>\n",
              "      <th>9</th>\n",
              "      <td>611</td>\n",
              "      <td>260</td>\n",
              "      <td>1.0</td>\n",
              "      <td>NaN</td>\n",
              "    </tr>\n",
              "  </tbody>\n",
              "</table>\n",
              "</div>"
            ],
            "text/plain": [
              "   userId  movieId  rate  moment\n",
              "5     611        1   2.0     NaN\n",
              "6     611        7   0.5     NaN\n",
              "7     611        2   2.0     NaN\n",
              "8     611     1196   1.0     NaN\n",
              "9     611      260   1.0     NaN"
            ]
          },
          "metadata": {
            "tags": []
          },
          "execution_count": 132
        }
      ]
    },
    {
      "cell_type": "markdown",
      "metadata": {
        "id": "57uAwYMN7KeQ"
      },
      "source": [
        "Test the recommendetion system with the new user."
      ]
    },
    {
      "cell_type": "code",
      "metadata": {
        "colab": {
          "base_uri": "https://localhost:8080/",
          "height": 220
        },
        "id": "gOGnSPeuNHVz",
        "outputId": "cb37bd74-1bc9-4c34-e8f3-f45a8e213404"
      },
      "source": [
        "recommend_for(611).head()"
      ],
      "execution_count": 141,
      "outputs": [
        {
          "output_type": "execute_result",
          "data": {
            "text/html": [
              "<div>\n",
              "<style scoped>\n",
              "    .dataframe tbody tr th:only-of-type {\n",
              "        vertical-align: middle;\n",
              "    }\n",
              "\n",
              "    .dataframe tbody tr th {\n",
              "        vertical-align: top;\n",
              "    }\n",
              "\n",
              "    .dataframe thead th {\n",
              "        text-align: right;\n",
              "    }\n",
              "</style>\n",
              "<table border=\"1\" class=\"dataframe\">\n",
              "  <thead>\n",
              "    <tr style=\"text-align: right;\">\n",
              "      <th></th>\n",
              "      <th>rate</th>\n",
              "      <th>title</th>\n",
              "      <th>gender</th>\n",
              "      <th>total_votes</th>\n",
              "      <th>avg_rates</th>\n",
              "    </tr>\n",
              "    <tr>\n",
              "      <th>movieId</th>\n",
              "      <th></th>\n",
              "      <th></th>\n",
              "      <th></th>\n",
              "      <th></th>\n",
              "      <th></th>\n",
              "    </tr>\n",
              "  </thead>\n",
              "  <tbody>\n",
              "    <tr>\n",
              "      <th>77846</th>\n",
              "      <td>5.0</td>\n",
              "      <td>12 Angry Men (1997)</td>\n",
              "      <td>Crime|Drama</td>\n",
              "      <td>1.0</td>\n",
              "      <td>5.000000</td>\n",
              "    </tr>\n",
              "    <tr>\n",
              "      <th>84273</th>\n",
              "      <td>5.0</td>\n",
              "      <td>Zeitgeist: Moving Forward (2011)</td>\n",
              "      <td>Documentary</td>\n",
              "      <td>1.0</td>\n",
              "      <td>5.000000</td>\n",
              "    </tr>\n",
              "    <tr>\n",
              "      <th>898</th>\n",
              "      <td>5.0</td>\n",
              "      <td>Philadelphia Story, The (1940)</td>\n",
              "      <td>Comedy|Drama|Romance</td>\n",
              "      <td>29.0</td>\n",
              "      <td>4.310345</td>\n",
              "    </tr>\n",
              "    <tr>\n",
              "      <th>89864</th>\n",
              "      <td>5.0</td>\n",
              "      <td>50/50 (2011)</td>\n",
              "      <td>Comedy|Drama</td>\n",
              "      <td>19.0</td>\n",
              "      <td>3.631579</td>\n",
              "    </tr>\n",
              "    <tr>\n",
              "      <th>1245</th>\n",
              "      <td>5.0</td>\n",
              "      <td>Miller's Crossing (1990)</td>\n",
              "      <td>Crime|Drama|Film-Noir|Thriller</td>\n",
              "      <td>20.0</td>\n",
              "      <td>4.225000</td>\n",
              "    </tr>\n",
              "  </tbody>\n",
              "</table>\n",
              "</div>"
            ],
            "text/plain": [
              "         rate                             title  ... total_votes  avg_rates\n",
              "movieId                                          ...                       \n",
              "77846     5.0               12 Angry Men (1997)  ...         1.0   5.000000\n",
              "84273     5.0  Zeitgeist: Moving Forward (2011)  ...         1.0   5.000000\n",
              "898       5.0    Philadelphia Story, The (1940)  ...        29.0   4.310345\n",
              "89864     5.0                      50/50 (2011)  ...        19.0   3.631579\n",
              "1245      5.0          Miller's Crossing (1990)  ...        20.0   4.225000\n",
              "\n",
              "[5 rows x 5 columns]"
            ]
          },
          "metadata": {
            "tags": []
          },
          "execution_count": 141
        }
      ]
    },
    {
      "cell_type": "markdown",
      "metadata": {
        "id": "cqGNlPIAPwH0"
      },
      "source": [
        "Now use the last functions just with the movies with more than 50 rates."
      ]
    },
    {
      "cell_type": "code",
      "metadata": {
        "colab": {
          "base_uri": "https://localhost:8080/",
          "height": 220
        },
        "id": "sQUTgaXQNYFO",
        "outputId": "89cc1062-94b6-4658-cdb5-675fe748251e"
      },
      "source": [
        "rate = rate.set_index('movieId').loc[movies_more_than_50.index]\n",
        "rate.head()"
      ],
      "execution_count": 147,
      "outputs": [
        {
          "output_type": "execute_result",
          "data": {
            "text/html": [
              "<div>\n",
              "<style scoped>\n",
              "    .dataframe tbody tr th:only-of-type {\n",
              "        vertical-align: middle;\n",
              "    }\n",
              "\n",
              "    .dataframe tbody tr th {\n",
              "        vertical-align: top;\n",
              "    }\n",
              "\n",
              "    .dataframe thead th {\n",
              "        text-align: right;\n",
              "    }\n",
              "</style>\n",
              "<table border=\"1\" class=\"dataframe\">\n",
              "  <thead>\n",
              "    <tr style=\"text-align: right;\">\n",
              "      <th></th>\n",
              "      <th>userId</th>\n",
              "      <th>rate</th>\n",
              "      <th>moment</th>\n",
              "    </tr>\n",
              "    <tr>\n",
              "      <th>movieId</th>\n",
              "      <th></th>\n",
              "      <th></th>\n",
              "      <th></th>\n",
              "    </tr>\n",
              "  </thead>\n",
              "  <tbody>\n",
              "    <tr>\n",
              "      <th>318</th>\n",
              "      <td>2</td>\n",
              "      <td>3.0</td>\n",
              "      <td>1.445715e+09</td>\n",
              "    </tr>\n",
              "    <tr>\n",
              "      <th>318</th>\n",
              "      <td>5</td>\n",
              "      <td>3.0</td>\n",
              "      <td>8.474349e+08</td>\n",
              "    </tr>\n",
              "    <tr>\n",
              "      <th>318</th>\n",
              "      <td>6</td>\n",
              "      <td>5.0</td>\n",
              "      <td>8.455532e+08</td>\n",
              "    </tr>\n",
              "    <tr>\n",
              "      <th>318</th>\n",
              "      <td>8</td>\n",
              "      <td>5.0</td>\n",
              "      <td>8.394635e+08</td>\n",
              "    </tr>\n",
              "    <tr>\n",
              "      <th>318</th>\n",
              "      <td>11</td>\n",
              "      <td>4.0</td>\n",
              "      <td>9.021551e+08</td>\n",
              "    </tr>\n",
              "  </tbody>\n",
              "</table>\n",
              "</div>"
            ],
            "text/plain": [
              "         userId  rate        moment\n",
              "movieId                            \n",
              "318           2   3.0  1.445715e+09\n",
              "318           5   3.0  8.474349e+08\n",
              "318           6   5.0  8.455532e+08\n",
              "318           8   5.0  8.394635e+08\n",
              "318          11   4.0  9.021551e+08"
            ]
          },
          "metadata": {
            "tags": []
          },
          "execution_count": 147
        }
      ]
    },
    {
      "cell_type": "code",
      "metadata": {
        "colab": {
          "base_uri": "https://localhost:8080/",
          "height": 191
        },
        "id": "P4Ne_AJnQAbF",
        "outputId": "8e371892-9e84-4e08-98cf-b24831bdb2e2"
      },
      "source": [
        "rate = rate.reset_index()\n",
        "rate.head() # volta a ter a coluna filmeId"
      ],
      "execution_count": 148,
      "outputs": [
        {
          "output_type": "execute_result",
          "data": {
            "text/html": [
              "<div>\n",
              "<style scoped>\n",
              "    .dataframe tbody tr th:only-of-type {\n",
              "        vertical-align: middle;\n",
              "    }\n",
              "\n",
              "    .dataframe tbody tr th {\n",
              "        vertical-align: top;\n",
              "    }\n",
              "\n",
              "    .dataframe thead th {\n",
              "        text-align: right;\n",
              "    }\n",
              "</style>\n",
              "<table border=\"1\" class=\"dataframe\">\n",
              "  <thead>\n",
              "    <tr style=\"text-align: right;\">\n",
              "      <th></th>\n",
              "      <th>movieId</th>\n",
              "      <th>userId</th>\n",
              "      <th>rate</th>\n",
              "      <th>moment</th>\n",
              "    </tr>\n",
              "  </thead>\n",
              "  <tbody>\n",
              "    <tr>\n",
              "      <th>0</th>\n",
              "      <td>318</td>\n",
              "      <td>2</td>\n",
              "      <td>3.0</td>\n",
              "      <td>1.445715e+09</td>\n",
              "    </tr>\n",
              "    <tr>\n",
              "      <th>1</th>\n",
              "      <td>318</td>\n",
              "      <td>5</td>\n",
              "      <td>3.0</td>\n",
              "      <td>8.474349e+08</td>\n",
              "    </tr>\n",
              "    <tr>\n",
              "      <th>2</th>\n",
              "      <td>318</td>\n",
              "      <td>6</td>\n",
              "      <td>5.0</td>\n",
              "      <td>8.455532e+08</td>\n",
              "    </tr>\n",
              "    <tr>\n",
              "      <th>3</th>\n",
              "      <td>318</td>\n",
              "      <td>8</td>\n",
              "      <td>5.0</td>\n",
              "      <td>8.394635e+08</td>\n",
              "    </tr>\n",
              "    <tr>\n",
              "      <th>4</th>\n",
              "      <td>318</td>\n",
              "      <td>11</td>\n",
              "      <td>4.0</td>\n",
              "      <td>9.021551e+08</td>\n",
              "    </tr>\n",
              "  </tbody>\n",
              "</table>\n",
              "</div>"
            ],
            "text/plain": [
              "   movieId  userId  rate        moment\n",
              "0      318       2   3.0  1.445715e+09\n",
              "1      318       5   3.0  8.474349e+08\n",
              "2      318       6   5.0  8.455532e+08\n",
              "3      318       8   5.0  8.394635e+08\n",
              "4      318      11   4.0  9.021551e+08"
            ]
          },
          "metadata": {
            "tags": []
          },
          "execution_count": 148
        }
      ]
    },
    {
      "cell_type": "code",
      "metadata": {
        "colab": {
          "base_uri": "https://localhost:8080/",
          "height": 220
        },
        "id": "pcI01WW9QewM",
        "outputId": "271d3f36-d13d-4305-d208-71e374312140"
      },
      "source": [
        "recommend_for(611).head()"
      ],
      "execution_count": 149,
      "outputs": [
        {
          "output_type": "execute_result",
          "data": {
            "text/html": [
              "<div>\n",
              "<style scoped>\n",
              "    .dataframe tbody tr th:only-of-type {\n",
              "        vertical-align: middle;\n",
              "    }\n",
              "\n",
              "    .dataframe tbody tr th {\n",
              "        vertical-align: top;\n",
              "    }\n",
              "\n",
              "    .dataframe thead th {\n",
              "        text-align: right;\n",
              "    }\n",
              "</style>\n",
              "<table border=\"1\" class=\"dataframe\">\n",
              "  <thead>\n",
              "    <tr style=\"text-align: right;\">\n",
              "      <th></th>\n",
              "      <th>rate</th>\n",
              "      <th>title</th>\n",
              "      <th>gender</th>\n",
              "      <th>total_votes</th>\n",
              "      <th>avg_rates</th>\n",
              "    </tr>\n",
              "    <tr>\n",
              "      <th>movieId</th>\n",
              "      <th></th>\n",
              "      <th></th>\n",
              "      <th></th>\n",
              "      <th></th>\n",
              "      <th></th>\n",
              "    </tr>\n",
              "  </thead>\n",
              "  <tbody>\n",
              "    <tr>\n",
              "      <th>112852</th>\n",
              "      <td>5.000000</td>\n",
              "      <td>Guardians of the Galaxy (2014)</td>\n",
              "      <td>Action|Adventure|Sci-Fi</td>\n",
              "      <td>59.0</td>\n",
              "      <td>4.050847</td>\n",
              "    </tr>\n",
              "    <tr>\n",
              "      <th>74458</th>\n",
              "      <td>4.666667</td>\n",
              "      <td>Shutter Island (2010)</td>\n",
              "      <td>Drama|Mystery|Thriller</td>\n",
              "      <td>67.0</td>\n",
              "      <td>4.022388</td>\n",
              "    </tr>\n",
              "    <tr>\n",
              "      <th>8874</th>\n",
              "      <td>4.600000</td>\n",
              "      <td>Shaun of the Dead (2004)</td>\n",
              "      <td>Comedy|Horror</td>\n",
              "      <td>77.0</td>\n",
              "      <td>4.006494</td>\n",
              "    </tr>\n",
              "    <tr>\n",
              "      <th>1090</th>\n",
              "      <td>4.500000</td>\n",
              "      <td>Platoon (1986)</td>\n",
              "      <td>Drama|War</td>\n",
              "      <td>63.0</td>\n",
              "      <td>3.984127</td>\n",
              "    </tr>\n",
              "    <tr>\n",
              "      <th>78499</th>\n",
              "      <td>4.500000</td>\n",
              "      <td>Toy Story 3 (2010)</td>\n",
              "      <td>Adventure|Animation|Children|Comedy|Fantasy|IMAX</td>\n",
              "      <td>55.0</td>\n",
              "      <td>4.109091</td>\n",
              "    </tr>\n",
              "  </tbody>\n",
              "</table>\n",
              "</div>"
            ],
            "text/plain": [
              "             rate                           title  ... total_votes  avg_rates\n",
              "movieId                                            ...                       \n",
              "112852   5.000000  Guardians of the Galaxy (2014)  ...        59.0   4.050847\n",
              "74458    4.666667           Shutter Island (2010)  ...        67.0   4.022388\n",
              "8874     4.600000        Shaun of the Dead (2004)  ...        77.0   4.006494\n",
              "1090     4.500000                  Platoon (1986)  ...        63.0   3.984127\n",
              "78499    4.500000              Toy Story 3 (2010)  ...        55.0   4.109091\n",
              "\n",
              "[5 rows x 5 columns]"
            ]
          },
          "metadata": {
            "tags": []
          },
          "execution_count": 149
        }
      ]
    },
    {
      "cell_type": "markdown",
      "metadata": {
        "id": "_yTgxN39RT2Z"
      },
      "source": [
        "# Chapter 11 - Use other way to consider the influence of the neighbors in the recommentadions\n",
        "\n",
        "In the first proposal to implement the recommendation system, the average distance between the closest neighbors was used to recommend the movies. Now we can use the total votes for each movie."
      ]
    },
    {
      "cell_type": "code",
      "metadata": {
        "id": "4Y6XLsw2SLUg"
      },
      "source": [
        "def knn(userId, user_analyse=None, k_more_close=10):\n",
        "  distance = distance_all(userId, user_analyse = user_analyse)\n",
        "  distance = distance.sort_values('distance')\n",
        "  distance = distance.set_index('other_person').drop(userId, errors = 'ignore')\n",
        "  return distance.head(k_more_close)"
      ],
      "execution_count": 150,
      "outputs": []
    },
    {
      "cell_type": "code",
      "metadata": {
        "id": "TB8tDJSRQj2L"
      },
      "source": [
        "def recommend_for(userId, user_analyse=None, k_more_close=10):\n",
        "  rates_you = rate_user(userId)\n",
        "  filmes_user_saw = rates_you.index\n",
        "  \n",
        "  similar = knn(userId, user_analyse = user_analyse, k_more_close = k_more_close)\n",
        "  similar_users = similar.index\n",
        "\n",
        "  rates_similar = rate.set_index('userId').loc[similar_users]\n",
        "  recommendations = rates_similar.groupby('movieId').mean()[['rate']]\n",
        "  appearances = rates_similar.groupby('movieId').count()[['rate']]\n",
        "\n",
        "  min_filter = k_more_close / 2 # set a filter\n",
        "\n",
        "  recommendations =  recommendations.join(appearances, lsuffix='_mean_users', rsuffix='_appearances_users')\n",
        "  recommendations = recommendations.query('rate_appearances_users >= %.2f' % min_filter)\n",
        "  recommendations = recommendations.sort_values('rate_mean_users', ascending=False)\n",
        "  recommendations = recommendations.drop(filmes_user_saw, errors='ignore')\n",
        "  return recommendations.join(movies)\n",
        "  # desconsiderar filmes com poucos votos entre as 10 pessoas consideradas\n",
        "\n",
        "  #recomendacoes = recomendacoes.sort_values('nota', ascending=False)\n",
        "  #return recomendacoes.join(filmes).head()"
      ],
      "execution_count": 153,
      "outputs": []
    },
    {
      "cell_type": "code",
      "metadata": {
        "colab": {
          "base_uri": "https://localhost:8080/",
          "height": 363
        },
        "id": "rZ-TfhC-R53_",
        "outputId": "f6aaa123-de12-4387-feab-967156a19c27"
      },
      "source": [
        "recommend_for(611).head(10)"
      ],
      "execution_count": 157,
      "outputs": [
        {
          "output_type": "execute_result",
          "data": {
            "text/html": [
              "<div>\n",
              "<style scoped>\n",
              "    .dataframe tbody tr th:only-of-type {\n",
              "        vertical-align: middle;\n",
              "    }\n",
              "\n",
              "    .dataframe tbody tr th {\n",
              "        vertical-align: top;\n",
              "    }\n",
              "\n",
              "    .dataframe thead th {\n",
              "        text-align: right;\n",
              "    }\n",
              "</style>\n",
              "<table border=\"1\" class=\"dataframe\">\n",
              "  <thead>\n",
              "    <tr style=\"text-align: right;\">\n",
              "      <th></th>\n",
              "      <th>rate_mean_users</th>\n",
              "      <th>rate_appearances_users</th>\n",
              "      <th>title</th>\n",
              "      <th>gender</th>\n",
              "      <th>total_votes</th>\n",
              "      <th>avg_rates</th>\n",
              "    </tr>\n",
              "    <tr>\n",
              "      <th>movieId</th>\n",
              "      <th></th>\n",
              "      <th></th>\n",
              "      <th></th>\n",
              "      <th></th>\n",
              "      <th></th>\n",
              "      <th></th>\n",
              "    </tr>\n",
              "  </thead>\n",
              "  <tbody>\n",
              "    <tr>\n",
              "      <th>8874</th>\n",
              "      <td>4.600000</td>\n",
              "      <td>5</td>\n",
              "      <td>Shaun of the Dead (2004)</td>\n",
              "      <td>Comedy|Horror</td>\n",
              "      <td>77.0</td>\n",
              "      <td>4.006494</td>\n",
              "    </tr>\n",
              "    <tr>\n",
              "      <th>318</th>\n",
              "      <td>4.437500</td>\n",
              "      <td>8</td>\n",
              "      <td>Shawshank Redemption, The (1994)</td>\n",
              "      <td>Crime|Drama</td>\n",
              "      <td>317.0</td>\n",
              "      <td>4.429022</td>\n",
              "    </tr>\n",
              "    <tr>\n",
              "      <th>4973</th>\n",
              "      <td>4.357143</td>\n",
              "      <td>7</td>\n",
              "      <td>Amelie (Fabuleux destin d'Amélie Poulain, Le) ...</td>\n",
              "      <td>Comedy|Romance</td>\n",
              "      <td>120.0</td>\n",
              "      <td>4.183333</td>\n",
              "    </tr>\n",
              "    <tr>\n",
              "      <th>7361</th>\n",
              "      <td>4.333333</td>\n",
              "      <td>9</td>\n",
              "      <td>Eternal Sunshine of the Spotless Mind (2004)</td>\n",
              "      <td>Drama|Romance|Sci-Fi</td>\n",
              "      <td>131.0</td>\n",
              "      <td>4.160305</td>\n",
              "    </tr>\n",
              "    <tr>\n",
              "      <th>904</th>\n",
              "      <td>4.300000</td>\n",
              "      <td>5</td>\n",
              "      <td>Rear Window (1954)</td>\n",
              "      <td>Mystery|Thriller</td>\n",
              "      <td>84.0</td>\n",
              "      <td>4.261905</td>\n",
              "    </tr>\n",
              "    <tr>\n",
              "      <th>79132</th>\n",
              "      <td>4.250000</td>\n",
              "      <td>6</td>\n",
              "      <td>Inception (2010)</td>\n",
              "      <td>Action|Crime|Drama|Mystery|Sci-Fi|Thriller|IMAX</td>\n",
              "      <td>143.0</td>\n",
              "      <td>4.066434</td>\n",
              "    </tr>\n",
              "    <tr>\n",
              "      <th>593</th>\n",
              "      <td>4.222222</td>\n",
              "      <td>9</td>\n",
              "      <td>Silence of the Lambs, The (1991)</td>\n",
              "      <td>Crime|Horror|Thriller</td>\n",
              "      <td>279.0</td>\n",
              "      <td>4.161290</td>\n",
              "    </tr>\n",
              "    <tr>\n",
              "      <th>3949</th>\n",
              "      <td>4.214286</td>\n",
              "      <td>7</td>\n",
              "      <td>Requiem for a Dream (2000)</td>\n",
              "      <td>Drama</td>\n",
              "      <td>96.0</td>\n",
              "      <td>3.921875</td>\n",
              "    </tr>\n",
              "    <tr>\n",
              "      <th>46578</th>\n",
              "      <td>4.214286</td>\n",
              "      <td>7</td>\n",
              "      <td>Little Miss Sunshine (2006)</td>\n",
              "      <td>Adventure|Comedy|Drama</td>\n",
              "      <td>77.0</td>\n",
              "      <td>3.883117</td>\n",
              "    </tr>\n",
              "    <tr>\n",
              "      <th>4011</th>\n",
              "      <td>4.200000</td>\n",
              "      <td>5</td>\n",
              "      <td>Snatch (2000)</td>\n",
              "      <td>Comedy|Crime|Thriller</td>\n",
              "      <td>93.0</td>\n",
              "      <td>4.155914</td>\n",
              "    </tr>\n",
              "  </tbody>\n",
              "</table>\n",
              "</div>"
            ],
            "text/plain": [
              "         rate_mean_users  rate_appearances_users  ... total_votes avg_rates\n",
              "movieId                                           ...                      \n",
              "8874            4.600000                       5  ...        77.0  4.006494\n",
              "318             4.437500                       8  ...       317.0  4.429022\n",
              "4973            4.357143                       7  ...       120.0  4.183333\n",
              "7361            4.333333                       9  ...       131.0  4.160305\n",
              "904             4.300000                       5  ...        84.0  4.261905\n",
              "79132           4.250000                       6  ...       143.0  4.066434\n",
              "593             4.222222                       9  ...       279.0  4.161290\n",
              "3949            4.214286                       7  ...        96.0  3.921875\n",
              "46578           4.214286                       7  ...        77.0  3.883117\n",
              "4011            4.200000                       5  ...        93.0  4.155914\n",
              "\n",
              "[10 rows x 6 columns]"
            ]
          },
          "metadata": {
            "tags": []
          },
          "execution_count": 157
        }
      ]
    },
    {
      "cell_type": "code",
      "metadata": {
        "colab": {
          "base_uri": "https://localhost:8080/",
          "height": 363
        },
        "id": "IaSsKmTqXjtI",
        "outputId": "aab5adeb-da68-4483-c522-e4d92d3277c8"
      },
      "source": [
        "recommend_for(611, k_more_close = 20).head(10)"
      ],
      "execution_count": 159,
      "outputs": [
        {
          "output_type": "execute_result",
          "data": {
            "text/html": [
              "<div>\n",
              "<style scoped>\n",
              "    .dataframe tbody tr th:only-of-type {\n",
              "        vertical-align: middle;\n",
              "    }\n",
              "\n",
              "    .dataframe tbody tr th {\n",
              "        vertical-align: top;\n",
              "    }\n",
              "\n",
              "    .dataframe thead th {\n",
              "        text-align: right;\n",
              "    }\n",
              "</style>\n",
              "<table border=\"1\" class=\"dataframe\">\n",
              "  <thead>\n",
              "    <tr style=\"text-align: right;\">\n",
              "      <th></th>\n",
              "      <th>rate_mean_users</th>\n",
              "      <th>rate_appearances_users</th>\n",
              "      <th>title</th>\n",
              "      <th>gender</th>\n",
              "      <th>total_votes</th>\n",
              "      <th>avg_rates</th>\n",
              "    </tr>\n",
              "    <tr>\n",
              "      <th>movieId</th>\n",
              "      <th></th>\n",
              "      <th></th>\n",
              "      <th></th>\n",
              "      <th></th>\n",
              "      <th></th>\n",
              "      <th></th>\n",
              "    </tr>\n",
              "  </thead>\n",
              "  <tbody>\n",
              "    <tr>\n",
              "      <th>593</th>\n",
              "      <td>4.300000</td>\n",
              "      <td>15</td>\n",
              "      <td>Silence of the Lambs, The (1991)</td>\n",
              "      <td>Crime|Horror|Thriller</td>\n",
              "      <td>279.0</td>\n",
              "      <td>4.161290</td>\n",
              "    </tr>\n",
              "    <tr>\n",
              "      <th>4973</th>\n",
              "      <td>4.269231</td>\n",
              "      <td>13</td>\n",
              "      <td>Amelie (Fabuleux destin d'Amélie Poulain, Le) ...</td>\n",
              "      <td>Comedy|Romance</td>\n",
              "      <td>120.0</td>\n",
              "      <td>4.183333</td>\n",
              "    </tr>\n",
              "    <tr>\n",
              "      <th>296</th>\n",
              "      <td>4.205882</td>\n",
              "      <td>17</td>\n",
              "      <td>Pulp Fiction (1994)</td>\n",
              "      <td>Comedy|Crime|Drama|Thriller</td>\n",
              "      <td>307.0</td>\n",
              "      <td>4.197068</td>\n",
              "    </tr>\n",
              "    <tr>\n",
              "      <th>1213</th>\n",
              "      <td>4.200000</td>\n",
              "      <td>10</td>\n",
              "      <td>Goodfellas (1990)</td>\n",
              "      <td>Crime|Drama</td>\n",
              "      <td>126.0</td>\n",
              "      <td>4.250000</td>\n",
              "    </tr>\n",
              "    <tr>\n",
              "      <th>318</th>\n",
              "      <td>4.176471</td>\n",
              "      <td>17</td>\n",
              "      <td>Shawshank Redemption, The (1994)</td>\n",
              "      <td>Crime|Drama</td>\n",
              "      <td>317.0</td>\n",
              "      <td>4.429022</td>\n",
              "    </tr>\n",
              "    <tr>\n",
              "      <th>4878</th>\n",
              "      <td>4.125000</td>\n",
              "      <td>12</td>\n",
              "      <td>Donnie Darko (2001)</td>\n",
              "      <td>Drama|Mystery|Sci-Fi|Thriller</td>\n",
              "      <td>109.0</td>\n",
              "      <td>3.981651</td>\n",
              "    </tr>\n",
              "    <tr>\n",
              "      <th>7361</th>\n",
              "      <td>4.125000</td>\n",
              "      <td>16</td>\n",
              "      <td>Eternal Sunshine of the Spotless Mind (2004)</td>\n",
              "      <td>Drama|Romance|Sci-Fi</td>\n",
              "      <td>131.0</td>\n",
              "      <td>4.160305</td>\n",
              "    </tr>\n",
              "    <tr>\n",
              "      <th>58559</th>\n",
              "      <td>4.100000</td>\n",
              "      <td>10</td>\n",
              "      <td>Dark Knight, The (2008)</td>\n",
              "      <td>Action|Crime|Drama|IMAX</td>\n",
              "      <td>149.0</td>\n",
              "      <td>4.238255</td>\n",
              "    </tr>\n",
              "    <tr>\n",
              "      <th>5618</th>\n",
              "      <td>4.100000</td>\n",
              "      <td>10</td>\n",
              "      <td>Spirited Away (Sen to Chihiro no kamikakushi) ...</td>\n",
              "      <td>Adventure|Animation|Fantasy</td>\n",
              "      <td>87.0</td>\n",
              "      <td>4.155172</td>\n",
              "    </tr>\n",
              "    <tr>\n",
              "      <th>46578</th>\n",
              "      <td>4.090909</td>\n",
              "      <td>11</td>\n",
              "      <td>Little Miss Sunshine (2006)</td>\n",
              "      <td>Adventure|Comedy|Drama</td>\n",
              "      <td>77.0</td>\n",
              "      <td>3.883117</td>\n",
              "    </tr>\n",
              "  </tbody>\n",
              "</table>\n",
              "</div>"
            ],
            "text/plain": [
              "         rate_mean_users  rate_appearances_users  ... total_votes avg_rates\n",
              "movieId                                           ...                      \n",
              "593             4.300000                      15  ...       279.0  4.161290\n",
              "4973            4.269231                      13  ...       120.0  4.183333\n",
              "296             4.205882                      17  ...       307.0  4.197068\n",
              "1213            4.200000                      10  ...       126.0  4.250000\n",
              "318             4.176471                      17  ...       317.0  4.429022\n",
              "4878            4.125000                      12  ...       109.0  3.981651\n",
              "7361            4.125000                      16  ...       131.0  4.160305\n",
              "58559           4.100000                      10  ...       149.0  4.238255\n",
              "5618            4.100000                      10  ...        87.0  4.155172\n",
              "46578           4.090909                      11  ...        77.0  3.883117\n",
              "\n",
              "[10 rows x 6 columns]"
            ]
          },
          "metadata": {
            "tags": []
          },
          "execution_count": 159
        }
      ]
    },
    {
      "cell_type": "markdown",
      "metadata": {
        "id": "h2xZ4S6OYVxL"
      },
      "source": [
        "# Chapter 12 - Conclusions\n",
        "\n"
      ]
    },
    {
      "cell_type": "markdown",
      "metadata": {
        "id": "pCDx5-mGjsw4"
      },
      "source": [
        "As we can see in this notebbok, there are several alternatives for creating recommendation systems. One of the most famous uses distance from nearby elements, such as the KNN. However, there are several consolidated alternatives in Python, such as LigthFM that present good results."
      ]
    },
    {
      "cell_type": "markdown",
      "metadata": {
        "id": "R7Pn8T3Vln57"
      },
      "source": [
        "I hope I helped to consolidate knowledge about recommendation systems!"
      ]
    }
  ]
}